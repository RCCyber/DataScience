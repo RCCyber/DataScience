{
 "cells": [
  {
   "cell_type": "markdown",
   "metadata": {},
   "source": [
    "# Проект: Отток клиентов"
   ]
  },
  {
   "cell_type": "markdown",
   "metadata": {},
   "source": [
    "Нужно спрогнозировать, уйдёт клиент из банка в ближайшее время или нет. Вам предоставлены исторические данные о поведении клиентов и расторжении договоров с банком. \n",
    "\n",
    "Источник данных: [https://www.kaggle.com/barelydedicated/bank-customer-churn-modeling](https://www.kaggle.com/barelydedicated/bank-customer-churn-modeling)"
   ]
  },
  {
   "cell_type": "markdown",
   "metadata": {},
   "source": [
    "# 1. Подготовка данных"
   ]
  },
  {
   "cell_type": "code",
   "execution_count": 1,
   "metadata": {},
   "outputs": [],
   "source": [
    "import pandas as pd\n",
    "import numpy as np\n",
    "import matplotlib.pyplot as plt\n",
    "from sklearn.preprocessing import StandardScaler, OrdinalEncoder\n",
    "from sklearn.model_selection import train_test_split\n",
    "from sklearn.utils import shuffle\n",
    "from sklearn.ensemble import RandomForestClassifier\n",
    "from sklearn.tree import DecisionTreeClassifier\n",
    "from sklearn.linear_model import LogisticRegression\n",
    "from sklearn.metrics import f1_score, roc_auc_score, roc_curve, precision_score, recall_score\n",
    "from sklearn.svm import SVC\n",
    "from sklearn.naive_bayes import GaussianNB\n",
    "from sklearn.neighbors import KNeighborsClassifier\n",
    "from sklearn.discriminant_analysis import LinearDiscriminantAnalysis\n",
    "from sklearn.model_selection import GridSearchCV"
   ]
  },
  {
   "cell_type": "code",
   "execution_count": 1,
   "metadata": {},
   "outputs": [],
   "source": [
    "#data = pd.read_csv('###')"
   ]
  },
  {
   "cell_type": "code",
   "execution_count": 3,
   "metadata": {},
   "outputs": [
    {
     "name": "stdout",
     "output_type": "stream",
     "text": [
      "<class 'pandas.core.frame.DataFrame'>\n",
      "RangeIndex: 10000 entries, 0 to 9999\n",
      "Data columns (total 14 columns):\n",
      "RowNumber          10000 non-null int64\n",
      "CustomerId         10000 non-null int64\n",
      "Surname            10000 non-null object\n",
      "CreditScore        10000 non-null int64\n",
      "Geography          10000 non-null object\n",
      "Gender             10000 non-null object\n",
      "Age                10000 non-null int64\n",
      "Tenure             9091 non-null float64\n",
      "Balance            10000 non-null float64\n",
      "NumOfProducts      10000 non-null int64\n",
      "HasCrCard          10000 non-null int64\n",
      "IsActiveMember     10000 non-null int64\n",
      "EstimatedSalary    10000 non-null float64\n",
      "Exited             10000 non-null int64\n",
      "dtypes: float64(3), int64(8), object(3)\n",
      "memory usage: 1.1+ MB\n"
     ]
    }
   ],
   "source": [
    "data.info()"
   ]
  },
  {
   "cell_type": "code",
   "execution_count": 4,
   "metadata": {},
   "outputs": [],
   "source": [
    "data['Tenure'] = data['Tenure'].fillna(-1)"
   ]
  },
  {
   "cell_type": "markdown",
   "metadata": {},
   "source": [
    "<b>Выкинем из данных ненужные признаки: RowNumber, CustomerId, Surname. Они не имеют ценности и только усложнят кодирование признаков и обучение</b>"
   ]
  },
  {
   "cell_type": "code",
   "execution_count": 5,
   "metadata": {},
   "outputs": [],
   "source": [
    "data = data.drop(['RowNumber', 'CustomerId', 'Surname'], axis=1)"
   ]
  },
  {
   "cell_type": "markdown",
   "metadata": {},
   "source": [
    "<b>Выполним кодирование категориальных признаков с помощью One Hot Encoding(Для не tree классификаторов)</b>"
   ]
  },
  {
   "cell_type": "code",
   "execution_count": 6,
   "metadata": {},
   "outputs": [],
   "source": [
    "data_ohe = pd.get_dummies(data, drop_first=True)"
   ]
  },
  {
   "cell_type": "code",
   "execution_count": 7,
   "metadata": {},
   "outputs": [
    {
     "data": {
      "text/html": [
       "<div>\n",
       "<style scoped>\n",
       "    .dataframe tbody tr th:only-of-type {\n",
       "        vertical-align: middle;\n",
       "    }\n",
       "\n",
       "    .dataframe tbody tr th {\n",
       "        vertical-align: top;\n",
       "    }\n",
       "\n",
       "    .dataframe thead th {\n",
       "        text-align: right;\n",
       "    }\n",
       "</style>\n",
       "<table border=\"1\" class=\"dataframe\">\n",
       "  <thead>\n",
       "    <tr style=\"text-align: right;\">\n",
       "      <th></th>\n",
       "      <th>CreditScore</th>\n",
       "      <th>Age</th>\n",
       "      <th>Tenure</th>\n",
       "      <th>Balance</th>\n",
       "      <th>NumOfProducts</th>\n",
       "      <th>HasCrCard</th>\n",
       "      <th>IsActiveMember</th>\n",
       "      <th>EstimatedSalary</th>\n",
       "      <th>Exited</th>\n",
       "      <th>Geography_Germany</th>\n",
       "      <th>Geography_Spain</th>\n",
       "      <th>Gender_Male</th>\n",
       "    </tr>\n",
       "  </thead>\n",
       "  <tbody>\n",
       "    <tr>\n",
       "      <td>0</td>\n",
       "      <td>619</td>\n",
       "      <td>42</td>\n",
       "      <td>2.0</td>\n",
       "      <td>0.00</td>\n",
       "      <td>1</td>\n",
       "      <td>1</td>\n",
       "      <td>1</td>\n",
       "      <td>101348.88</td>\n",
       "      <td>1</td>\n",
       "      <td>0</td>\n",
       "      <td>0</td>\n",
       "      <td>0</td>\n",
       "    </tr>\n",
       "    <tr>\n",
       "      <td>1</td>\n",
       "      <td>608</td>\n",
       "      <td>41</td>\n",
       "      <td>1.0</td>\n",
       "      <td>83807.86</td>\n",
       "      <td>1</td>\n",
       "      <td>0</td>\n",
       "      <td>1</td>\n",
       "      <td>112542.58</td>\n",
       "      <td>0</td>\n",
       "      <td>0</td>\n",
       "      <td>1</td>\n",
       "      <td>0</td>\n",
       "    </tr>\n",
       "    <tr>\n",
       "      <td>2</td>\n",
       "      <td>502</td>\n",
       "      <td>42</td>\n",
       "      <td>8.0</td>\n",
       "      <td>159660.80</td>\n",
       "      <td>3</td>\n",
       "      <td>1</td>\n",
       "      <td>0</td>\n",
       "      <td>113931.57</td>\n",
       "      <td>1</td>\n",
       "      <td>0</td>\n",
       "      <td>0</td>\n",
       "      <td>0</td>\n",
       "    </tr>\n",
       "  </tbody>\n",
       "</table>\n",
       "</div>"
      ],
      "text/plain": [
       "   CreditScore  Age  Tenure    Balance  NumOfProducts  HasCrCard  \\\n",
       "0          619   42     2.0       0.00              1          1   \n",
       "1          608   41     1.0   83807.86              1          0   \n",
       "2          502   42     8.0  159660.80              3          1   \n",
       "\n",
       "   IsActiveMember  EstimatedSalary  Exited  Geography_Germany  \\\n",
       "0               1        101348.88       1                  0   \n",
       "1               1        112542.58       0                  0   \n",
       "2               0        113931.57       1                  0   \n",
       "\n",
       "   Geography_Spain  Gender_Male  \n",
       "0                0            0  \n",
       "1                1            0  \n",
       "2                0            0  "
      ]
     },
     "execution_count": 7,
     "metadata": {},
     "output_type": "execute_result"
    }
   ],
   "source": [
    "data_ohe.head(3)"
   ]
  },
  {
   "cell_type": "markdown",
   "metadata": {},
   "source": [
    "<b>Для классификаторов Tree-класса выполним кодирование с помощью Ordinal Encoding</b>"
   ]
  },
  {
   "cell_type": "code",
   "execution_count": 8,
   "metadata": {},
   "outputs": [],
   "source": [
    "category = ['Geography', 'Gender']"
   ]
  },
  {
   "cell_type": "code",
   "execution_count": 9,
   "metadata": {},
   "outputs": [
    {
     "data": {
      "text/plain": [
       "OrdinalEncoder(categories='auto', dtype=<class 'numpy.float64'>)"
      ]
     },
     "execution_count": 9,
     "metadata": {},
     "output_type": "execute_result"
    }
   ],
   "source": [
    "encoder = OrdinalEncoder()\n",
    "encoder.fit(data[category])"
   ]
  },
  {
   "cell_type": "code",
   "execution_count": 10,
   "metadata": {},
   "outputs": [],
   "source": [
    "data_ordinal = data\n",
    "temp_ordinal = pd.DataFrame(encoder.transform(data[category]),\n",
    "                            columns=category)"
   ]
  },
  {
   "cell_type": "code",
   "execution_count": 11,
   "metadata": {},
   "outputs": [],
   "source": [
    "data_ordinal[category] = temp_ordinal"
   ]
  },
  {
   "cell_type": "markdown",
   "metadata": {},
   "source": [
    "<b>На всякий случай проверим данные на мультиколлинеарность</b>"
   ]
  },
  {
   "cell_type": "code",
   "execution_count": 12,
   "metadata": {},
   "outputs": [
    {
     "data": {
      "image/png": "[encoded data removed]",
      "text/plain": [
       "<Figure size 1224x936 with 2 Axes>"
      ]
     },
     "metadata": {
      "needs_background": "light"
     },
     "output_type": "display_data"
    }
   ],
   "source": [
    "f = plt.figure(figsize=(17, 13))\n",
    "plt.matshow(data.corr(), fignum=f.number)\n",
    "plt.xticks(range(data.select_dtypes(['number']).shape[1]), data.select_dtypes(['number']).columns, fontsize=14, rotation=45)\n",
    "plt.yticks(range(data.select_dtypes(['number']).shape[1]), data.select_dtypes(['number']).columns, fontsize=14)\n",
    "cb = plt.colorbar()\n",
    "cb.ax.tick_params(labelsize=12)\n",
    "plt.title('Матрица корреляции', fontsize=13);"
   ]
  },
  {
   "cell_type": "markdown",
   "metadata": {},
   "source": [
    "<b>Вывод:</b>\n",
    "Сильной взаимосвязи между признаками нет, поэтому все столбцы остаются на месте"
   ]
  },
  {
   "cell_type": "markdown",
   "metadata": {},
   "source": [
    "<b>Выделим признаки, которые нужно отмасштабировать</b>"
   ]
  },
  {
   "cell_type": "code",
   "execution_count": 13,
   "metadata": {},
   "outputs": [],
   "source": [
    "numeric = ['CreditScore', 'Age', 'Balance', 'EstimatedSalary']"
   ]
  },
  {
   "cell_type": "markdown",
   "metadata": {},
   "source": [
    "<b>Создадим модель для масштабирования</b>"
   ]
  },
  {
   "cell_type": "code",
   "execution_count": 14,
   "metadata": {},
   "outputs": [],
   "source": [
    "scaler = StandardScaler()"
   ]
  },
  {
   "cell_type": "markdown",
   "metadata": {},
   "source": [
    "<b>Разобьём данные на тренировочные и тестовые в data_ohe<b/>"
   ]
  },
  {
   "cell_type": "code",
   "execution_count": 15,
   "metadata": {},
   "outputs": [],
   "source": [
    "data_ohe_general, data_ohe_test = train_test_split(data_ohe, test_size = 0.20, random_state=12345)"
   ]
  },
  {
   "cell_type": "code",
   "execution_count": 16,
   "metadata": {},
   "outputs": [],
   "source": [
    "ohe_features = data_ohe_general.drop(['Exited'], axis=1)\n",
    "ohe_target = data_ohe_general['Exited']"
   ]
  },
  {
   "cell_type": "code",
   "execution_count": 17,
   "metadata": {},
   "outputs": [],
   "source": [
    "features_ohe_train, features_ohe_valid, target_ohe_train, target_ohe_valid = train_test_split(ohe_features, \n",
    "                                                                              ohe_target, \n",
    "                                                                              test_size=0.25, \n",
    "                                                                              random_state=12345)"
   ]
  },
  {
   "cell_type": "code",
   "execution_count": 18,
   "metadata": {},
   "outputs": [],
   "source": [
    "test_ohe_features = data_ohe_test.drop(['Exited'], axis=1)\n",
    "test_ohe_target = data_ohe_test['Exited']"
   ]
  },
  {
   "cell_type": "code",
   "execution_count": 19,
   "metadata": {},
   "outputs": [
    {
     "name": "stdout",
     "output_type": "stream",
     "text": [
      "(2000, 11) (2000,)\n"
     ]
    }
   ],
   "source": [
    "print(test_ohe_features.shape, test_ohe_target.shape)"
   ]
  },
  {
   "cell_type": "markdown",
   "metadata": {},
   "source": [
    "<b>Сделаем тоже самое для data_ordinal</b>"
   ]
  },
  {
   "cell_type": "code",
   "execution_count": 20,
   "metadata": {},
   "outputs": [],
   "source": [
    "data_ordinal_general, data_ordinal_test = train_test_split(data_ordinal, test_size = 0.20, random_state=123456)"
   ]
  },
  {
   "cell_type": "code",
   "execution_count": 21,
   "metadata": {},
   "outputs": [],
   "source": [
    "ordinal_features = data_ordinal_general.drop(['Exited'], axis=1)\n",
    "ordinal_target = data_ordinal_general['Exited']"
   ]
  },
  {
   "cell_type": "code",
   "execution_count": 22,
   "metadata": {},
   "outputs": [],
   "source": [
    "features_ordinal_train, features_ordinal_valid, target_ordinal_train, target_ordinal_valid = train_test_split(ordinal_features, \n",
    "                                                                              ordinal_target, \n",
    "                                                                              test_size=0.25, \n",
    "                                                                              random_state=12345)"
   ]
  },
  {
   "cell_type": "code",
   "execution_count": 23,
   "metadata": {},
   "outputs": [],
   "source": [
    "test_ordinal_features = data_ordinal_test.drop(['Exited'], axis=1)\n",
    "test_ordinal_target = data_ordinal_test['Exited']"
   ]
  },
  {
   "cell_type": "code",
   "execution_count": 24,
   "metadata": {},
   "outputs": [
    {
     "name": "stdout",
     "output_type": "stream",
     "text": [
      "(2000, 10) (2000,)\n"
     ]
    }
   ],
   "source": [
    "print(test_ordinal_features.shape, test_ordinal_target.shape)"
   ]
  },
  {
   "cell_type": "markdown",
   "metadata": {},
   "source": [
    "<b>Выводы</b>\n",
    "* Обнаружил пропуски в количественном признаке, которые мешали ordinal кодированию. Было принято заменить данные на медиану(в дальнейшем будут проверены версии с -1 и средним)\n",
    "* Обнаружил ненужные для обучения стобцы RowNumber, CustomerId, Surname\n",
    "* Сделал кодирование признаков под разные классификаторы\n",
    "* Отмасштабировал CreditScore, Age, Balance, EstimatedSalary столбцы"
   ]
  },
  {
   "cell_type": "markdown",
   "metadata": {},
   "source": []
  },
  {
   "cell_type": "markdown",
   "metadata": {},
   "source": [
    "# 2. Исследование задачи"
   ]
  },
  {
   "cell_type": "markdown",
   "metadata": {},
   "source": [
    "* Исследуем баланс классов, обучите модель без учёта дисбаланса. \n",
    "* Кратко опишем выводы.\n",
    "* Улучшим качество модели, учитывая дисбаланс классов. Обучим разные модели и найдём лучшую. \n",
    "* Кратко опишем выводы.\n",
    "* Проведём финальное тестирование."
   ]
  },
  {
   "cell_type": "markdown",
   "metadata": {},
   "source": [
    "# 2.1 Исследуем баланс классов"
   ]
  },
  {
   "cell_type": "code",
   "execution_count": 25,
   "metadata": {},
   "outputs": [
    {
     "name": "stdout",
     "output_type": "stream",
     "text": [
      "0    7963\n",
      "1    2037\n",
      "Name: Exited, dtype: int64\n"
     ]
    }
   ],
   "source": [
    "print(data['Exited'].value_counts()) # 20 / 80"
   ]
  },
  {
   "cell_type": "markdown",
   "metadata": {},
   "source": [
    "**20%** клиентов уходят, остальные **80%** остаются - явный дисбаланс классов*"
   ]
  },
  {
   "cell_type": "markdown",
   "metadata": {},
   "source": [
    "<b>Обучите модели с учётом дисбаланса и отсутствием масштабирования</b>"
   ]
  },
  {
   "cell_type": "markdown",
   "metadata": {},
   "source": [
    "<b>DecisionTreeClassifier</b>"
   ]
  },
  {
   "cell_type": "code",
   "execution_count": 26,
   "metadata": {},
   "outputs": [
    {
     "name": "stderr",
     "output_type": "stream",
     "text": [
      "/opt/conda/lib/python3.7/site-packages/sklearn/model_selection/_split.py:1978: FutureWarning: The default value of cv will change from 3 to 5 in version 0.22. Specify it explicitly to silence this warning.\n",
      "  warnings.warn(CV_WARNING, FutureWarning)\n"
     ]
    },
    {
     "name": "stdout",
     "output_type": "stream",
     "text": [
      "{'criterion': 'entropy', 'max_depth': 13}\n",
      "CPU times: user 259 ms, sys: 0 ns, total: 259 ms\n",
      "Wall time: 292 ms\n"
     ]
    }
   ],
   "source": [
    "%%time\n",
    "decision_score = 0\n",
    "decision_model = None\n",
    "parameters = {\n",
    "    'max_depth': [1, 13],\n",
    "    'criterion': ['gini', 'entropy']\n",
    "}\n",
    "decision_model = DecisionTreeClassifier(random_state=111)\n",
    "clf = GridSearchCV(decision_model, parameters)\n",
    "clf.fit(features_ordinal_train, target_ordinal_train)\n",
    "print(clf.best_params_)"
   ]
  },
  {
   "cell_type": "code",
   "execution_count": 27,
   "metadata": {},
   "outputs": [
    {
     "data": {
      "image/png": "[encoded data removed]",
      "text/plain": [
       "<Figure size 432x288 with 1 Axes>"
      ]
     },
     "metadata": {
      "needs_background": "light"
     },
     "output_type": "display_data"
    },
    {
     "name": "stdout",
     "output_type": "stream",
     "text": [
      "F1: 0.4932975871313673, ROC AUC: 0.713531997731023\n",
      "Feature importances: \n",
      " Age                0.243366\n",
      "NumOfProducts      0.172343\n",
      "EstimatedSalary    0.150024\n",
      "CreditScore        0.129309\n",
      "Balance            0.123278\n",
      "Tenure             0.072681\n",
      "IsActiveMember     0.045288\n",
      "Geography          0.037735\n",
      "Gender             0.017041\n",
      "HasCrCard          0.008935\n",
      "dtype: float64\n"
     ]
    }
   ],
   "source": [
    "decision_model = DecisionTreeClassifier(criterion = 'entropy', max_depth = 13, random_state=111)\n",
    "decision_model.fit(features_ordinal_train, target_ordinal_train)\n",
    "predicted_decision = decision_model.predict(features_ordinal_valid)\n",
    "pred_des = decision_model.predict_proba(features_ordinal_valid)\n",
    "des_one_valid = pred_des[:, 1]\n",
    "decision_auc = roc_auc_score(target_ordinal_valid, des_one_valid)\n",
    "fpr, tpr, thresholds = roc_curve(target_ordinal_valid, des_one_valid)\n",
    "ft_imp = pd.Series(decision_model.feature_importances_, index=features_ordinal_train.columns).sort_values(ascending=False)\n",
    "plt.plot(fpr, tpr)\n",
    "plt.plot([0, 1], [0, 1])\n",
    "plt.show()\n",
    "print(\"F1: {}, ROC AUC: {}\".format(f1_score(target_ordinal_valid, predicted_decision), decision_auc))\n",
    "print(\"Feature importances: \\n\", ft_imp)"
   ]
  },
  {
   "cell_type": "markdown",
   "metadata": {},
   "source": [
    "<b>RandomForestClassifier</b>"
   ]
  },
  {
   "cell_type": "code",
   "execution_count": 28,
   "metadata": {},
   "outputs": [
    {
     "name": "stderr",
     "output_type": "stream",
     "text": [
      "/opt/conda/lib/python3.7/site-packages/sklearn/metrics/classification.py:1437: UndefinedMetricWarning: F-score is ill-defined and being set to 0.0 due to no predicted samples.\n",
      "  'precision', 'predicted', average, warn_for)\n",
      "/opt/conda/lib/python3.7/site-packages/sklearn/metrics/classification.py:1437: UndefinedMetricWarning: F-score is ill-defined and being set to 0.0 due to no predicted samples.\n",
      "  'precision', 'predicted', average, warn_for)\n",
      "/opt/conda/lib/python3.7/site-packages/sklearn/metrics/classification.py:1437: UndefinedMetricWarning: F-score is ill-defined and being set to 0.0 due to no predicted samples.\n",
      "  'precision', 'predicted', average, warn_for)\n",
      "/opt/conda/lib/python3.7/site-packages/sklearn/metrics/classification.py:1437: UndefinedMetricWarning: F-score is ill-defined and being set to 0.0 due to no predicted samples.\n",
      "  'precision', 'predicted', average, warn_for)\n",
      "/opt/conda/lib/python3.7/site-packages/sklearn/metrics/classification.py:1437: UndefinedMetricWarning: F-score is ill-defined and being set to 0.0 due to no predicted samples.\n",
      "  'precision', 'predicted', average, warn_for)\n",
      "/opt/conda/lib/python3.7/site-packages/sklearn/metrics/classification.py:1437: UndefinedMetricWarning: F-score is ill-defined and being set to 0.0 due to no predicted samples.\n",
      "  'precision', 'predicted', average, warn_for)\n"
     ]
    },
    {
     "name": "stdout",
     "output_type": "stream",
     "text": [
      "Лучшая модель: RandomForestClassifier(bootstrap=True, class_weight=None, criterion='gini',\n",
      "                       max_depth=14, max_features='auto', max_leaf_nodes=None,\n",
      "                       min_impurity_decrease=0.0, min_impurity_split=None,\n",
      "                       min_samples_leaf=1, min_samples_split=2,\n",
      "                       min_weight_fraction_leaf=0.0, n_estimators=90,\n",
      "                       n_jobs=None, oob_score=False, random_state=222,\n",
      "                       verbose=0, warm_start=False) \n",
      " F1 на валидационных данных: 0.60\n",
      " Лучшая глубина: 13, \n",
      " ROC AUC: 0.84\n"
     ]
    },
    {
     "data": {
      "image/png": "[encoded data removed]",
      "text/plain": [
       "<Figure size 432x288 with 1 Axes>"
      ]
     },
     "metadata": {
      "needs_background": "light"
     },
     "output_type": "display_data"
    },
    {
     "name": "stdout",
     "output_type": "stream",
     "text": [
      "Age                0.250947\n",
      "NumOfProducts      0.155815\n",
      "EstimatedSalary    0.136712\n",
      "CreditScore        0.130214\n",
      "Balance            0.129986\n",
      "Tenure             0.074290\n",
      "IsActiveMember     0.046245\n",
      "Geography          0.038139\n",
      "Gender             0.019336\n",
      "HasCrCard          0.018317\n",
      "dtype: float64\n",
      "CPU times: user 45.4 s, sys: 98.9 ms, total: 45.5 s\n",
      "Wall time: 45.7 s\n"
     ]
    }
   ],
   "source": [
    "%%time\n",
    "random_score = 0\n",
    "random_model = None\n",
    "random_depth = 0\n",
    "for est in range(10, 100, 10):\n",
    "    for i in range(1, 15, 1):\n",
    "        random_model = RandomForestClassifier(n_estimators=est, random_state=222, max_depth=i)\n",
    "        random_model.fit(features_ordinal_train, target_ordinal_train)\n",
    "        predicted_random = random_model.predict(features_ordinal_valid)\n",
    "        random_proba = random_model.predict_proba(features_ordinal_valid)\n",
    "        random_one_valid = random_proba[:, 1]\n",
    "        random_auc = roc_auc_score(target_ordinal_valid, random_one_valid)\n",
    "        if f1_score(target_ordinal_valid, predicted_random) > random_score:\n",
    "            random_score = f1_score(target_ordinal_valid, predicted_random)\n",
    "            random_model = est\n",
    "            random_depth = i\n",
    "print('Лучшая модель: {} \\n F1 на валидационных данных: {:.2f}\\n Лучшая глубина: {}, \\n ROC AUC: {:.2f}'.format(random_model, \n",
    "                                                                                                     random_score, \n",
    "                                                                                                     random_depth, \n",
    "                                                                                        random_auc))\n",
    "fpr, tpr, thresholds = roc_curve(target_ordinal_valid, random_one_valid)\n",
    "plt.plot(fpr, tpr)\n",
    "plt.plot([0, 1], [0, 1])\n",
    "plt.show()\n",
    "ft_imp = pd.Series(random_model.feature_importances_, index=features_ordinal_train.columns).sort_values(ascending=False)\n",
    "print(ft_imp)"
   ]
  },
  {
   "cell_type": "markdown",
   "metadata": {},
   "source": [
    "<b>LogisticRegression</b>"
   ]
  },
  {
   "cell_type": "code",
   "execution_count": 29,
   "metadata": {},
   "outputs": [
    {
     "name": "stdout",
     "output_type": "stream",
     "text": [
      "F1 на валидационных данных: 0.10, ROC AUC: 0.68\n"
     ]
    },
    {
     "data": {
      "image/png": "[encoded data removed]",
      "text/plain": [
       "<Figure size 432x288 with 1 Axes>"
      ]
     },
     "metadata": {
      "needs_background": "light"
     },
     "output_type": "display_data"
    },
    {
     "name": "stdout",
     "output_type": "stream",
     "text": [
      "CPU times: user 364 ms, sys: 92.6 ms, total: 456 ms\n",
      "Wall time: 475 ms\n"
     ]
    }
   ],
   "source": [
    "%%time\n",
    "logistic_model = LogisticRegression(random_state=333, solver=\"liblinear\") # class_weight='balanced'\n",
    "logistic_model.fit(features_ohe_train, target_ohe_train)\n",
    "predicted_log = logistic_model.predict(features_ohe_valid)\n",
    "log_proba = logistic_model.predict_proba(features_ohe_valid)\n",
    "log_one_valid = log_proba[:, 1]\n",
    "logistic_auc = roc_auc_score(target_ohe_valid, log_one_valid)\n",
    "print('F1 на валидационных данных: {:.2f}, ROC AUC: {:.2f}'.format(f1_score(target_ohe_valid, predicted_log), logistic_auc))\n",
    "fpr, tpr, thresholds = roc_curve(target_ohe_valid, log_one_valid)\n",
    "plt.plot(fpr, tpr)\n",
    "plt.plot([0, 1], [0, 1])\n",
    "plt.show()"
   ]
  },
  {
   "cell_type": "markdown",
   "metadata": {},
   "source": [
    "<b>SVC</b>"
   ]
  },
  {
   "cell_type": "code",
   "execution_count": 30,
   "metadata": {},
   "outputs": [
    {
     "name": "stderr",
     "output_type": "stream",
     "text": [
      "/opt/conda/lib/python3.7/site-packages/sklearn/metrics/classification.py:1437: UndefinedMetricWarning: F-score is ill-defined and being set to 0.0 due to no predicted samples.\n",
      "  'precision', 'predicted', average, warn_for)\n"
     ]
    },
    {
     "name": "stdout",
     "output_type": "stream",
     "text": [
      "F1 на валидационных данных: 0.00, ROC AUC: 0.50\n"
     ]
    },
    {
     "data": {
      "image/png": "[encoded data removed]",
      "text/plain": [
       "<Figure size 432x288 with 1 Axes>"
      ]
     },
     "metadata": {
      "needs_background": "light"
     },
     "output_type": "display_data"
    },
    {
     "name": "stdout",
     "output_type": "stream",
     "text": [
      "CPU times: user 10.9 s, sys: 393 ms, total: 11.3 s\n",
      "Wall time: 11.3 s\n"
     ]
    }
   ],
   "source": [
    "%%time\n",
    "svc_model = SVC(random_state=444, gamma='auto', probability=True) # class_weight='balanced'\n",
    "svc_model.fit(features_ohe_train, target_ohe_train)\n",
    "predicted_svc = svc_model.predict(features_ohe_valid)\n",
    "svc_proba = svc_model.predict_proba(features_ohe_valid)\n",
    "svc_one_valid = svc_proba[:, 1]\n",
    "svc_auc = roc_auc_score(target_ohe_valid, svc_one_valid)\n",
    "print('F1 на валидационных данных: {:.2f}, ROC AUC: {:.2f}'.format(f1_score(target_ohe_valid, predicted_svc), svc_auc))\n",
    "fpr, tpr, thresholds = roc_curve(target_ohe_valid, svc_one_valid)\n",
    "plt.plot(fpr, tpr)\n",
    "plt.plot([0, 1], [0, 1])\n",
    "plt.show()"
   ]
  },
  {
   "cell_type": "markdown",
   "metadata": {},
   "source": [
    "<b>GaussianNB</b>"
   ]
  },
  {
   "cell_type": "code",
   "execution_count": 31,
   "metadata": {},
   "outputs": [
    {
     "name": "stdout",
     "output_type": "stream",
     "text": [
      "F1 на валидационных данных: 0.14, ROC AUC: 0.74\n"
     ]
    },
    {
     "data": {
      "image/png": "[encoded data removed]",
      "text/plain": [
       "<Figure size 432x288 with 1 Axes>"
      ]
     },
     "metadata": {
      "needs_background": "light"
     },
     "output_type": "display_data"
    },
    {
     "name": "stdout",
     "output_type": "stream",
     "text": [
      "CPU times: user 321 ms, sys: 4.01 ms, total: 325 ms\n",
      "Wall time: 345 ms\n"
     ]
    }
   ],
   "source": [
    "%%time\n",
    "np.random.seed(555)\n",
    "gauss_model = GaussianNB()\n",
    "gauss_model.fit(features_ohe_train, target_ohe_train)\n",
    "predicted_gauss = gauss_model.predict(features_ohe_valid)\n",
    "gauss_proba = gauss_model.predict_proba(features_ohe_valid)\n",
    "gauss_one_valid = gauss_proba[:, 1]\n",
    "gauss_auc = roc_auc_score(target_ohe_valid, gauss_one_valid)\n",
    "print('F1 на валидационных данных: {:.2f}, ROC AUC: {:.2f}'.format(f1_score(target_ohe_valid, predicted_gauss), gauss_auc))\n",
    "fpr, tpr, thresholds = roc_curve(target_ohe_valid, gauss_one_valid)\n",
    "plt.plot(fpr, tpr)\n",
    "plt.plot([0, 1], [0, 1])\n",
    "plt.show()"
   ]
  },
  {
   "cell_type": "markdown",
   "metadata": {},
   "source": [
    "<b>KNeighborsClassifier</b>"
   ]
  },
  {
   "cell_type": "code",
   "execution_count": 32,
   "metadata": {},
   "outputs": [
    {
     "name": "stdout",
     "output_type": "stream",
     "text": [
      "F1 на валидационных данных: 0.05, ROC AUC: 0.54, Model: KNeighborsClassifier(algorithm='auto', leaf_size=30, metric='minkowski',\n",
      "                     metric_params=None, n_jobs=None, n_neighbors=6, p=2,\n",
      "                     weights='uniform')\n"
     ]
    },
    {
     "data": {
      "image/png": "[encoded data removed]",
      "text/plain": [
       "<Figure size 432x288 with 1 Axes>"
      ]
     },
     "metadata": {
      "needs_background": "light"
     },
     "output_type": "display_data"
    },
    {
     "name": "stdout",
     "output_type": "stream",
     "text": [
      "CPU times: user 927 ms, sys: 17 µs, total: 927 ms\n",
      "Wall time: 935 ms\n"
     ]
    }
   ],
   "source": [
    "%%time\n",
    "np.random.seed(666)\n",
    "kn_model = None\n",
    "kn_score = 0\n",
    "for i in range(1, 7):\n",
    "    kn_model = KNeighborsClassifier(n_neighbors=i)\n",
    "    kn_model.fit(features_ohe_train, target_ohe_train)\n",
    "    predicted_kn = kn_model.predict(features_ohe_valid)\n",
    "    kn_proba = kn_model.predict_proba(features_ohe_valid)\n",
    "    kn_one_valid = kn_proba[:, 1]\n",
    "    kn_auc = roc_auc_score(target_ohe_valid, kn_one_valid)\n",
    "    if f1_score(target_ohe_valid, predicted_kn) > kn_score:\n",
    "        kn_score = f1_score(target_ohe_valid, predicted_kn)\n",
    "        kn_model = i\n",
    "print('F1 на валидационных данных: {:.2f}, ROC AUC: {:.2f}, Model: {}'.format(f1_score(target_ohe_valid, predicted_kn), \n",
    "                                                                              kn_auc, \n",
    "                                                                              kn_model))\n",
    "fpr, tpr, thresholds = roc_curve(target_ohe_valid, kn_one_valid)\n",
    "plt.plot(fpr, tpr)\n",
    "plt.plot([0, 1], [0, 1])\n",
    "plt.show()"
   ]
  },
  {
   "cell_type": "markdown",
   "metadata": {},
   "source": [
    "<b>LinearDiscriminantAnalysis</b>"
   ]
  },
  {
   "cell_type": "code",
   "execution_count": 33,
   "metadata": {},
   "outputs": [
    {
     "name": "stdout",
     "output_type": "stream",
     "text": [
      "F1 на валидационных данных: 0.31, ROC AUC: 0.77\n"
     ]
    },
    {
     "data": {
      "image/png": "[encoded data removed]",
      "text/plain": [
       "<Figure size 432x288 with 1 Axes>"
      ]
     },
     "metadata": {
      "needs_background": "light"
     },
     "output_type": "display_data"
    },
    {
     "name": "stdout",
     "output_type": "stream",
     "text": [
      "CPU times: user 352 ms, sys: 129 ms, total: 480 ms\n",
      "Wall time: 501 ms\n"
     ]
    }
   ],
   "source": [
    "%%time\n",
    "np.random.seed(777)\n",
    "discrim_model = LinearDiscriminantAnalysis()\n",
    "discrim_model.fit(features_ohe_train, target_ohe_train)\n",
    "predicted_discrim = discrim_model.predict(features_ohe_valid)\n",
    "discrim_proba = discrim_model.predict_proba(features_ohe_valid)\n",
    "discrim_one_valid = discrim_proba[:, 1]\n",
    "discrim_auc = roc_auc_score(target_ohe_valid, discrim_one_valid)\n",
    "print('F1 на валидационных данных: {:.2f}, ROC AUC: {:.2f}'.format(f1_score(target_ohe_valid, predicted_discrim), discrim_auc))\n",
    "fpr, tpr, thresholds = roc_curve(target_ohe_valid, discrim_one_valid)\n",
    "plt.plot(fpr, tpr)\n",
    "plt.plot([0, 1], [0, 1])\n",
    "plt.show()"
   ]
  },
  {
   "cell_type": "markdown",
   "metadata": {},
   "source": [
    "<b>Выводы:</b>\n",
    "* RandomForestClassifier - F1 на валидационных данных: 0.60, ROC AUC: 0.84\n",
    "* DecisionTreeClassifier - F1 на валидационных данных: 0.57, ROC AUC: 0.70\n",
    "* GaussianNB - F1 на валидационных данных: 0.44, ROC AUC: 0.78\n",
    "* SVC - F1 на валидационных данных: 0.42, ROC AUC: 0.82"
   ]
  },
  {
   "cell_type": "markdown",
   "metadata": {},
   "source": [
    "# 3. Борьба с дисбалансом"
   ]
  },
  {
   "cell_type": "markdown",
   "metadata": {},
   "source": [
    "<b>Попробуем две модели с добавлением веса:</b>"
   ]
  },
  {
   "cell_type": "code",
   "execution_count": 34,
   "metadata": {},
   "outputs": [
    {
     "name": "stdout",
     "output_type": "stream",
     "text": [
      "F1 на валидационных данных: 0.48, ROC AUC: 0.77\n"
     ]
    },
    {
     "data": {
      "image/png": "[encoded data removed]",
      "text/plain": [
       "<Figure size 432x288 with 1 Axes>"
      ]
     },
     "metadata": {
      "needs_background": "light"
     },
     "output_type": "display_data"
    },
    {
     "name": "stdout",
     "output_type": "stream",
     "text": [
      "CPU times: user 353 ms, sys: 113 ms, total: 466 ms\n",
      "Wall time: 482 ms\n"
     ]
    }
   ],
   "source": [
    "%%time\n",
    "logistic_model = LogisticRegression(random_state=333, solver=\"liblinear\", class_weight='balanced')\n",
    "logistic_model.fit(features_ohe_train, target_ohe_train)\n",
    "predicted_log = logistic_model.predict(features_ohe_valid)\n",
    "log_proba = logistic_model.predict_proba(features_ohe_valid)\n",
    "log_one_valid = log_proba[:, 1]\n",
    "logistic_auc = roc_auc_score(target_ohe_valid, log_one_valid)\n",
    "print('F1 на валидационных данных: {:.2f}, ROC AUC: {:.2f}'.format(f1_score(target_ohe_valid, predicted_log), logistic_auc))\n",
    "fpr, tpr, thresholds = roc_curve(target_ohe_valid, log_one_valid)\n",
    "plt.plot(fpr, tpr)\n",
    "plt.plot([0, 1], [0, 1])\n",
    "plt.show()"
   ]
  },
  {
   "cell_type": "code",
   "execution_count": 35,
   "metadata": {},
   "outputs": [
    {
     "name": "stderr",
     "output_type": "stream",
     "text": [
      "/opt/conda/lib/python3.7/site-packages/sklearn/metrics/classification.py:1437: UndefinedMetricWarning: F-score is ill-defined and being set to 0.0 due to no predicted samples.\n",
      "  'precision', 'predicted', average, warn_for)\n"
     ]
    },
    {
     "name": "stdout",
     "output_type": "stream",
     "text": [
      "F1 на валидационных данных: 0.00, ROC AUC: 0.50\n"
     ]
    },
    {
     "data": {
      "image/png": "[encoded data removed]",
      "text/plain": [
       "<Figure size 432x288 with 1 Axes>"
      ]
     },
     "metadata": {
      "needs_background": "light"
     },
     "output_type": "display_data"
    },
    {
     "name": "stdout",
     "output_type": "stream",
     "text": [
      "CPU times: user 11.5 s, sys: 465 ms, total: 12 s\n",
      "Wall time: 12.2 s\n"
     ]
    }
   ],
   "source": [
    "%%time\n",
    "svc_model = SVC(random_state=444, gamma='auto', class_weight='balanced', probability=True)\n",
    "svc_model.fit(features_ohe_train, target_ohe_train)\n",
    "predicted_svc = svc_model.predict(features_ohe_valid)\n",
    "svc_proba = svc_model.predict_proba(features_ohe_valid)\n",
    "svc_one_valid = svc_proba[:, 1]\n",
    "svc_auc = roc_auc_score(target_ohe_valid, svc_one_valid)\n",
    "print('F1 на валидационных данных: {:.2f}, ROC AUC: {:.2f}'.format(f1_score(target_ohe_valid, predicted_svc), svc_auc))\n",
    "fpr, tpr, thresholds = roc_curve(target_ohe_valid, svc_one_valid)\n",
    "plt.plot(fpr, tpr)\n",
    "plt.plot([0, 1], [0, 1])\n",
    "plt.show()"
   ]
  },
  {
   "cell_type": "markdown",
   "metadata": {},
   "source": [
    "<b>Немного увеличилось, но не дозодит до границы 0.59</b>"
   ]
  },
  {
   "cell_type": "markdown",
   "metadata": {},
   "source": [
    "<b>Для начала отмасштабируем некоторые признаки для не tree моделей</b>"
   ]
  },
  {
   "cell_type": "code",
   "execution_count": 36,
   "metadata": {},
   "outputs": [
    {
     "name": "stderr",
     "output_type": "stream",
     "text": [
      "/opt/conda/lib/python3.7/site-packages/pandas/core/indexing.py:494: SettingWithCopyWarning: \n",
      "A value is trying to be set on a copy of a slice from a DataFrame.\n",
      "Try using .loc[row_indexer,col_indexer] = value instead\n",
      "\n",
      "See the caveats in the documentation: http://pandas.pydata.org/pandas-docs/stable/user_guide/indexing.html#returning-a-view-versus-a-copy\n",
      "  self.obj[item] = s\n",
      "/opt/conda/lib/python3.7/site-packages/pandas/core/indexing.py:494: SettingWithCopyWarning: \n",
      "A value is trying to be set on a copy of a slice from a DataFrame.\n",
      "Try using .loc[row_indexer,col_indexer] = value instead\n",
      "\n",
      "See the caveats in the documentation: http://pandas.pydata.org/pandas-docs/stable/user_guide/indexing.html#returning-a-view-versus-a-copy\n",
      "  self.obj[item] = s\n"
     ]
    }
   ],
   "source": [
    "scaler.fit(features_ohe_train[numeric])\n",
    "features_ohe_train.loc[:, numeric] = scaler.transform(features_ohe_train[numeric])\n",
    "features_ohe_valid.loc[:, numeric] = scaler.transform(features_ohe_valid[numeric])"
   ]
  },
  {
   "cell_type": "markdown",
   "metadata": {},
   "source": [
    "<b>Напишем функцию upsample, для увелиния количества меньшего класса</b>"
   ]
  },
  {
   "cell_type": "code",
   "execution_count": 37,
   "metadata": {},
   "outputs": [],
   "source": [
    "def upsample(features, target, repeat):\n",
    "    features_zeros = features[target == 0]\n",
    "    features_ones = features[target == 1]\n",
    "    target_zeros = target[target == 0]\n",
    "    target_ones = target[target == 1]\n",
    "\n",
    "    features_upsampled = pd.concat([features_zeros] + [features_ones] * repeat)\n",
    "    target_upsampled = pd.concat([target_zeros] + [target_ones] * repeat)\n",
    "    \n",
    "    features_upsampled, target_upsampled = shuffle(\n",
    "        features_upsampled, target_upsampled, random_state=98765)\n",
    "    \n",
    "    return features_upsampled, target_upsampled"
   ]
  },
  {
   "cell_type": "code",
   "execution_count": 38,
   "metadata": {},
   "outputs": [
    {
     "name": "stdout",
     "output_type": "stream",
     "text": [
      "0    4762\n",
      "1    1238\n",
      "Name: Exited, dtype: int64\n",
      "0    4781\n",
      "1    1219\n",
      "Name: Exited, dtype: int64\n"
     ]
    }
   ],
   "source": [
    "print(target_ordinal_train.value_counts())\n",
    "print(target_ohe_train.value_counts())"
   ]
  },
  {
   "cell_type": "markdown",
   "metadata": {},
   "source": [
    "<b>Сделаем \"1\" класс в 3 раза больше</b>"
   ]
  },
  {
   "cell_type": "code",
   "execution_count": 39,
   "metadata": {},
   "outputs": [],
   "source": [
    "features_ohe_upsampled, target_ohe_upsampled = upsample(features_ohe_train, target_ohe_train, 3)"
   ]
  },
  {
   "cell_type": "code",
   "execution_count": 40,
   "metadata": {},
   "outputs": [],
   "source": [
    "features_ord_upsampled, target_ord_upsampled = upsample(features_ordinal_train, target_ordinal_train, 3)"
   ]
  },
  {
   "cell_type": "code",
   "execution_count": 41,
   "metadata": {},
   "outputs": [
    {
     "name": "stdout",
     "output_type": "stream",
     "text": [
      "0    4762\n",
      "1    3714\n",
      "Name: Exited, dtype: int64\n",
      "0    4781\n",
      "1    3657\n",
      "Name: Exited, dtype: int64\n"
     ]
    }
   ],
   "source": [
    "print(target_ord_upsampled.value_counts())\n",
    "print(target_ohe_upsampled.value_counts())"
   ]
  },
  {
   "cell_type": "markdown",
   "metadata": {},
   "source": [
    "<b>Обучим модели снова и обновим результаты метрик</b>"
   ]
  },
  {
   "cell_type": "markdown",
   "metadata": {},
   "source": [
    "<b>DecisionTreeClassifier</b>"
   ]
  },
  {
   "cell_type": "code",
   "execution_count": 42,
   "metadata": {},
   "outputs": [
    {
     "name": "stdout",
     "output_type": "stream",
     "text": [
      "Лучшая модель: DecisionTreeClassifier(class_weight=None, criterion='gini', max_depth=14,\n",
      "                       max_features=None, max_leaf_nodes=None,\n",
      "                       min_impurity_decrease=0.0, min_impurity_split=None,\n",
      "                       min_samples_leaf=1, min_samples_split=2,\n",
      "                       min_weight_fraction_leaf=0.0, presort=False,\n",
      "                       random_state=111, splitter='best'), F1 на валидационных данных: 0.57, ROC AUC: 0.70\n"
     ]
    },
    {
     "data": {
      "image/png": "[encoded data removed]",
      "text/plain": [
       "<Figure size 432x288 with 1 Axes>"
      ]
     },
     "metadata": {
      "needs_background": "light"
     },
     "output_type": "display_data"
    },
    {
     "name": "stdout",
     "output_type": "stream",
     "text": [
      "CPU times: user 884 ms, sys: 8.16 ms, total: 893 ms\n",
      "Wall time: 893 ms\n"
     ]
    }
   ],
   "source": [
    "%%time\n",
    "decision_score = 0\n",
    "decision_model = None\n",
    "\n",
    "for i in range(1, 15, 1):\n",
    "    decision_model = DecisionTreeClassifier(max_depth=i, random_state=111)\n",
    "    decision_model.fit(features_ord_upsampled, target_ord_upsampled)\n",
    "    predicted_decision = decision_model.predict(features_ordinal_valid)\n",
    "    decision_proba = decision_model.predict_proba(features_ordinal_valid)\n",
    "    decision_one_valid = decision_proba[:, 1]\n",
    "    decision_auc = roc_auc_score(target_ordinal_valid, decision_one_valid)\n",
    "    if f1_score(target_ordinal_valid, predicted_decision) > decision_score:\n",
    "        decision_score = f1_score(target_ordinal_valid, predicted_decision)\n",
    "        decision_model = i\n",
    "print('Лучшая модель: {}, F1 на валидационных данных: {:.2f}, ROC AUC: {:.2f}'.format(decision_model, decision_score, decision_auc))\n",
    "fpr, tpr, thresholds = roc_curve(target_ordinal_valid, decision_one_valid)\n",
    "plt.plot(fpr, tpr)\n",
    "plt.plot([0, 1], [0, 1])\n",
    "plt.show()"
   ]
  },
  {
   "cell_type": "markdown",
   "metadata": {},
   "source": [
    "<b>RandomForestClassifier</b>"
   ]
  },
  {
   "cell_type": "code",
   "execution_count": 43,
   "metadata": {
    "scrolled": true
   },
   "outputs": [
    {
     "name": "stdout",
     "output_type": "stream",
     "text": [
      "Лучшая модель: RandomForestClassifier(bootstrap=True, class_weight=None, criterion='gini',\n",
      "                       max_depth=14, max_features='auto', max_leaf_nodes=None,\n",
      "                       min_impurity_decrease=0.0, min_impurity_split=None,\n",
      "                       min_samples_leaf=1, min_samples_split=2,\n",
      "                       min_weight_fraction_leaf=0.0, n_estimators=90,\n",
      "                       n_jobs=None, oob_score=False, random_state=222,\n",
      "                       verbose=0, warm_start=False) \n",
      " F1 на валидационных данных: 0.62\n",
      " Лучшая глубина: 7, \n",
      " ROC AUC: 0.84\n"
     ]
    },
    {
     "data": {
      "image/png": "[encoded data removed]",
      "text/plain": [
       "<Figure size 432x288 with 1 Axes>"
      ]
     },
     "metadata": {
      "needs_background": "light"
     },
     "output_type": "display_data"
    },
    {
     "name": "stdout",
     "output_type": "stream",
     "text": [
      "CPU times: user 1min 21s, sys: 141 ms, total: 1min 21s\n",
      "Wall time: 1min 22s\n"
     ]
    }
   ],
   "source": [
    "%%time\n",
    "random_score = 0\n",
    "random_model = None\n",
    "random_depth = 0\n",
    "for est in range(10, 100, 10):\n",
    "    for i in range(1, 15, 1):\n",
    "        random_model = RandomForestClassifier(n_estimators=est, random_state=222, max_depth=i)\n",
    "        random_model.fit(features_ord_upsampled, target_ord_upsampled)\n",
    "        predicted_random = random_model.predict(features_ordinal_valid)\n",
    "        random_proba = random_model.predict_proba(features_ordinal_valid)\n",
    "        random_one_valid = random_proba[:, 1]\n",
    "        random_auc = roc_auc_score(target_ordinal_valid, random_one_valid)\n",
    "        if f1_score(target_ordinal_valid, predicted_random) > random_score:\n",
    "            random_score = f1_score(target_ordinal_valid, predicted_random)\n",
    "            random_model = est\n",
    "            random_depth = i\n",
    "print('Лучшая модель: {} \\n F1 на валидационных данных: {:.2f}\\n Лучшая глубина: {}, \\n ROC AUC: {:.2f}'.format(random_model, \n",
    "                                                                                                     random_score, \n",
    "                                                                                                     random_depth, \n",
    "                                                                                        random_auc))\n",
    "fpr, tpr, thresholds = roc_curve(target_ordinal_valid, random_one_valid)\n",
    "plt.plot(fpr, tpr)\n",
    "plt.plot([0, 1], [0, 1])\n",
    "plt.show()"
   ]
  },
  {
   "cell_type": "markdown",
   "metadata": {},
   "source": [
    "<b>Проверим метрики через threshold</b>"
   ]
  },
  {
   "cell_type": "code",
   "execution_count": 44,
   "metadata": {},
   "outputs": [
    {
     "name": "stdout",
     "output_type": "stream",
     "text": [
      "F1 на тестовых данных: 0.54, ROC AUC: 0.75, Threshold: 0.3\n",
      "F1 на тестовых данных: 0.57, ROC AUC: 0.75, Threshold: 0.4\n",
      "F1 на тестовых данных: 0.60, ROC AUC: 0.75, Threshold: 0.5\n",
      "F1 на тестовых данных: 0.57, ROC AUC: 0.71, Threshold: 0.6000000000000001\n",
      "F1 на тестовых данных: 0.54, ROC AUC: 0.69, Threshold: 0.7000000000000002\n"
     ]
    }
   ],
   "source": [
    "for threshold in np.arange(0.3, 0.8, 0.1):\n",
    "    predicted_test = random_one_valid >= threshold\n",
    "    print('F1 на тестовых данных: {:.2f}, ROC AUC: {:.2f}, Threshold: {}'.format(f1_score(target_ordinal_valid, predicted_test), \n",
    "                                                                   roc_auc_score(target_ordinal_valid, predicted_test), \n",
    "                                                                                 threshold))"
   ]
  },
  {
   "cell_type": "markdown",
   "metadata": {},
   "source": [
    "<b>LogisticRegression</b>"
   ]
  },
  {
   "cell_type": "code",
   "execution_count": 237,
   "metadata": {
    "scrolled": true
   },
   "outputs": [
    {
     "name": "stdout",
     "output_type": "stream",
     "text": [
      "F1 на валидационных данных: 0.47, ROC AUC: 0.77\n"
     ]
    },
    {
     "data": {
      "image/png": "[encoded data removed]",
      "text/plain": [
       "<Figure size 432x288 with 1 Axes>"
      ]
     },
     "metadata": {
      "needs_background": "light"
     },
     "output_type": "display_data"
    },
    {
     "name": "stdout",
     "output_type": "stream",
     "text": [
      "CPU times: user 354 ms, sys: 88.5 ms, total: 443 ms\n",
      "Wall time: 474 ms\n"
     ]
    }
   ],
   "source": [
    "%%time\n",
    "logistic_model = LogisticRegression(random_state=333, solver=\"liblinear\") # class_weight='balanced'\n",
    "logistic_model.fit(features_ohe_upsampled, target_ohe_upsampled)\n",
    "predicted_log = logistic_model.predict(features_ohe_valid)\n",
    "log_proba = logistic_model.predict_proba(features_ohe_valid)\n",
    "log_one_valid = log_proba[:, 1]\n",
    "logistic_auc = roc_auc_score(target_ohe_valid, log_one_valid)\n",
    "print('F1 на валидационных данных: {:.2f}, ROC AUC: {:.2f}'.format(f1_score(target_ohe_valid, predicted_log), logistic_auc))\n",
    "fpr, tpr, thresholds = roc_curve(target_ohe_valid, log_one_valid)\n",
    "plt.plot(fpr, tpr)\n",
    "plt.plot([0, 1], [0, 1])\n",
    "plt.show()"
   ]
  },
  {
   "cell_type": "markdown",
   "metadata": {},
   "source": [
    "<b>SVC</b>"
   ]
  },
  {
   "cell_type": "code",
   "execution_count": 238,
   "metadata": {},
   "outputs": [
    {
     "name": "stdout",
     "output_type": "stream",
     "text": [
      "F1 на валидационных данных: 0.59, ROC AUC: 0.84\n"
     ]
    },
    {
     "data": {
      "image/png": "[encoded data removed]",
      "text/plain": [
       "<Figure size 432x288 with 1 Axes>"
      ]
     },
     "metadata": {
      "needs_background": "light"
     },
     "output_type": "display_data"
    },
    {
     "name": "stdout",
     "output_type": "stream",
     "text": [
      "CPU times: user 16 s, sys: 91.8 ms, total: 16.1 s\n",
      "Wall time: 16.4 s\n"
     ]
    }
   ],
   "source": [
    "%%time\n",
    "svc_model = SVC(random_state=444, gamma='auto', probability=True)\n",
    "svc_model.fit(features_ohe_upsampled, target_ohe_upsampled)\n",
    "predicted_svc = svc_model.predict(features_ohe_valid)\n",
    "svc_proba = svc_model.predict_proba(features_ohe_valid)\n",
    "svc_one_valid = svc_proba[:, 1]\n",
    "svc_auc = roc_auc_score(target_ohe_valid, svc_one_valid)\n",
    "print('F1 на валидационных данных: {:.2f}, ROC AUC: {:.2f}'.format(f1_score(target_ohe_valid, predicted_svc), svc_auc))\n",
    "fpr, tpr, thresholds = roc_curve(target_ohe_valid, svc_one_valid)\n",
    "plt.plot(fpr, tpr)\n",
    "plt.plot([0, 1], [0, 1])\n",
    "plt.show()"
   ]
  },
  {
   "cell_type": "markdown",
   "metadata": {},
   "source": [
    "<b>Попробуем с регулировкой порога:</b>"
   ]
  },
  {
   "cell_type": "code",
   "execution_count": 239,
   "metadata": {},
   "outputs": [
    {
     "name": "stdout",
     "output_type": "stream",
     "text": [
      "F1 на тестовых данных: 0.59, ROC AUC: 0.84, Threshold: 0.3\n",
      "F1 на тестовых данных: 0.59, ROC AUC: 0.84, Threshold: 0.4\n",
      "F1 на тестовых данных: 0.59, ROC AUC: 0.84, Threshold: 0.5\n",
      "F1 на тестовых данных: 0.59, ROC AUC: 0.84, Threshold: 0.6000000000000001\n",
      "F1 на тестовых данных: 0.59, ROC AUC: 0.84, Threshold: 0.7000000000000002\n"
     ]
    }
   ],
   "source": [
    "probabilities_valid = svc_model.predict_proba(features_ohe_valid)\n",
    "probabilities_one_valid = probabilities_valid[:, 1]\n",
    "\n",
    "for threshold in np.arange(0.3, 0.8, 0.1):\n",
    "    predicted_test = (svc_one_valid > threshold)\n",
    "    print('F1 на тестовых данных: {:.2f}, ROC AUC: {:.2f}, Threshold: {}'.format(f1_score(target_ohe_valid, predicted_svc), \n",
    "                                                                   roc_auc_score(target_ohe_valid, svc_one_valid), threshold))"
   ]
  },
  {
   "cell_type": "markdown",
   "metadata": {},
   "source": [
    "<b>GaussianNB</b>"
   ]
  },
  {
   "cell_type": "code",
   "execution_count": 240,
   "metadata": {
    "scrolled": true
   },
   "outputs": [
    {
     "name": "stdout",
     "output_type": "stream",
     "text": [
      "F1 на валидационных данных: 0.49, ROC AUC: 0.78\n"
     ]
    },
    {
     "data": {
      "image/png": "[encoded data removed]",
      "text/plain": [
       "<Figure size 432x288 with 1 Axes>"
      ]
     },
     "metadata": {
      "needs_background": "light"
     },
     "output_type": "display_data"
    },
    {
     "name": "stdout",
     "output_type": "stream",
     "text": [
      "CPU times: user 251 ms, sys: 8 ms, total: 259 ms\n",
      "Wall time: 274 ms\n"
     ]
    }
   ],
   "source": [
    "%%time\n",
    "np.random.seed(555)\n",
    "gauss_model = GaussianNB()\n",
    "gauss_model.fit(features_ohe_upsampled, target_ohe_upsampled)\n",
    "predicted_gauss = gauss_model.predict(features_ohe_valid)\n",
    "gauss_proba = gauss_model.predict_proba(features_ohe_valid)\n",
    "gauss_one_valid = gauss_proba[:, 1]\n",
    "gauss_auc = roc_auc_score(target_ohe_valid, gauss_one_valid)\n",
    "print('F1 на валидационных данных: {:.2f}, ROC AUC: {:.2f}'.format(f1_score(target_ohe_valid, predicted_gauss), gauss_auc))\n",
    "fpr, tpr, thresholds = roc_curve(target_ohe_valid, gauss_one_valid)\n",
    "plt.plot(fpr, tpr)\n",
    "plt.plot([0, 1], [0, 1])\n",
    "plt.show()"
   ]
  },
  {
   "cell_type": "markdown",
   "metadata": {},
   "source": [
    "<b>KNeighborsClassifier</b>"
   ]
  },
  {
   "cell_type": "code",
   "execution_count": 241,
   "metadata": {
    "scrolled": true
   },
   "outputs": [
    {
     "name": "stdout",
     "output_type": "stream",
     "text": [
      "F1 на валидационных данных: 0.46, ROC AUC: 0.74, Model: KNeighborsClassifier(algorithm='auto', leaf_size=30, metric='minkowski',\n",
      "                     metric_params=None, n_jobs=None, n_neighbors=6, p=2,\n",
      "                     weights='uniform')\n"
     ]
    },
    {
     "data": {
      "image/png": "[encoded data removed]",
      "text/plain": [
       "<Figure size 432x288 with 1 Axes>"
      ]
     },
     "metadata": {
      "needs_background": "light"
     },
     "output_type": "display_data"
    },
    {
     "name": "stdout",
     "output_type": "stream",
     "text": [
      "CPU times: user 1.97 s, sys: 3.96 ms, total: 1.98 s\n",
      "Wall time: 1.99 s\n"
     ]
    }
   ],
   "source": [
    "%%time\n",
    "np.random.seed(666)\n",
    "kn_model = None\n",
    "kn_score = 0\n",
    "for i in range(1, 7):\n",
    "    kn_model = KNeighborsClassifier(n_neighbors=i)\n",
    "    kn_model.fit(features_ohe_upsampled, target_ohe_upsampled)\n",
    "    predicted_kn = kn_model.predict(features_ohe_valid)\n",
    "    kn_proba = kn_model.predict_proba(features_ohe_valid)\n",
    "    kn_one_valid = kn_proba[:, 1]\n",
    "    kn_auc = roc_auc_score(target_ohe_valid, kn_one_valid)\n",
    "    if f1_score(target_ohe_valid, predicted_kn) > kn_score:\n",
    "        kn_score = f1_score(target_ohe_valid, predicted_kn)\n",
    "        kn_model = i\n",
    "print('F1 на валидационных данных: {:.2f}, ROC AUC: {:.2f}, Model: {}'.format(f1_score(target_ohe_valid, predicted_kn), \n",
    "                                                                              kn_auc, \n",
    "                                                                              kn_model))\n",
    "fpr, tpr, thresholds = roc_curve(target_ohe_valid, kn_one_valid)\n",
    "plt.plot(fpr, tpr)\n",
    "plt.plot([0, 1], [0, 1])\n",
    "plt.show()"
   ]
  },
  {
   "cell_type": "markdown",
   "metadata": {},
   "source": [
    "<b>LinearDiscriminantAnalysis</b>"
   ]
  },
  {
   "cell_type": "code",
   "execution_count": 242,
   "metadata": {},
   "outputs": [
    {
     "name": "stdout",
     "output_type": "stream",
     "text": [
      "F1 на валидационных данных: 0.48, ROC AUC: 0.77\n"
     ]
    },
    {
     "data": {
      "image/png": "[encoded data removed]",
      "text/plain": [
       "<Figure size 432x288 with 1 Axes>"
      ]
     },
     "metadata": {
      "needs_background": "light"
     },
     "output_type": "display_data"
    },
    {
     "name": "stdout",
     "output_type": "stream",
     "text": [
      "CPU times: user 369 ms, sys: 149 ms, total: 517 ms\n",
      "Wall time: 537 ms\n"
     ]
    }
   ],
   "source": [
    "%%time\n",
    "np.random.seed(777)\n",
    "discrim_model = LinearDiscriminantAnalysis()\n",
    "discrim_model.fit(features_ohe_upsampled, target_ohe_upsampled)\n",
    "predicted_discrim = discrim_model.predict(features_ohe_valid)\n",
    "discrim_proba = discrim_model.predict_proba(features_ohe_valid)\n",
    "discrim_one_valid = discrim_proba[:, 1]\n",
    "discrim_auc = roc_auc_score(target_ohe_valid, discrim_one_valid)\n",
    "print('F1 на валидационных данных: {:.2f}, ROC AUC: {:.2f}'.format(f1_score(target_ohe_valid, predicted_discrim), discrim_auc))\n",
    "fpr, tpr, thresholds = roc_curve(target_ohe_valid, discrim_one_valid)\n",
    "plt.plot(fpr, tpr)\n",
    "plt.plot([0, 1], [0, 1])\n",
    "plt.show()"
   ]
  },
  {
   "cell_type": "markdown",
   "metadata": {},
   "source": [
    "<b>Выводы</b>\n",
    "\n",
    "| Model | F1 до upsample/scaling | ROC до upsample/scaling | F1 после upsample/scaling | ROC после upsample/scaling |\n",
    "| --- | --- | --- | --- | --- |\n",
    "| SVC | 0.42 | 0.82 | 0.61 | 0.77 |\n",
    "| RandomForestClassifier | 0.60 | 0.84 | 0.61 | 0.74 |\n",
    "| DecisionTreeClassifier | 0.57 | 0.70 | 0.57 | 0.68 |\n",
    "| GaussianNB | 0.44 | 0.78 | 0.49 | 0.70 |\n",
    "| LinearDiscriminantAnalysis | 0.31 | 0.77 | 0.48 | 0.69 |\n",
    "| KNeighborsClassifier | 0.32 | 0.75 | 0.48 | 0.67 |\n",
    "| LogisticRegression | 0.31 | 0.77 | 0.47 | 0.77 |\n",
    "\n",
    "\n",
    "Балансировка с масштабированием значительно улучшила показатели метрик, теперь посмотрим на тестовых данных"
   ]
  },
  {
   "cell_type": "markdown",
   "metadata": {},
   "source": [
    "# 4. Тестирование модели"
   ]
  },
  {
   "cell_type": "markdown",
   "metadata": {},
   "source": [
    "<b>Возьмём двух финалистов и сравним их результаты на тестовой выборке</b>"
   ]
  },
  {
   "cell_type": "markdown",
   "metadata": {},
   "source": [
    "<b>RandomForestClassifier</b>"
   ]
  },
  {
   "cell_type": "code",
   "execution_count": 243,
   "metadata": {},
   "outputs": [],
   "source": [
    "train_ordinal, target_ordinal = upsample(ordinal_features, ordinal_target, 3)"
   ]
  },
  {
   "cell_type": "code",
   "execution_count": 244,
   "metadata": {},
   "outputs": [
    {
     "name": "stdout",
     "output_type": "stream",
     "text": [
      "F1 на тестовых данных: 0.58, ROC AUC: 0.86\n",
      "Precision: 0.582\n",
      "Recall: 0.583\n"
     ]
    },
    {
     "data": {
      "image/png": "[encoded data removed]",
      "text/plain": [
       "<Figure size 432x288 with 1 Axes>"
      ]
     },
     "metadata": {
      "needs_background": "light"
     },
     "output_type": "display_data"
    },
    {
     "name": "stdout",
     "output_type": "stream",
     "text": [
      "CPU times: user 1.32 s, sys: 8.03 ms, total: 1.32 s\n",
      "Wall time: 1.35 s\n"
     ]
    }
   ],
   "source": [
    "%%time\n",
    "random_model = RandomForestClassifier(n_estimators=90, random_state=222, max_depth=8)\n",
    "random_model.fit(train_ordinal, target_ordinal)\n",
    "predicted_random = random_model.predict(test_ordinal_features)\n",
    "random_proba = random_model.predict_proba(test_ordinal_features)\n",
    "random_one_test = random_proba[:, 1]\n",
    "random_auc = roc_auc_score(test_ordinal_target, random_one_test)\n",
    "print('F1 на тестовых данных: {:.2f}, ROC AUC: {:.2f}'.format(f1_score(test_ordinal_target, predicted_random), \n",
    "                                                                                                     random_auc))\n",
    "print(\"Precision: {:.3f}\".format(precision_score(test_ordinal_target, predicted_random)))\n",
    "print(\"Recall: {:.3f}\".format(recall_score(test_ordinal_target, predicted_random)))\n",
    "fpr, tpr, thresholds = roc_curve(test_ordinal_target, random_one_test)\n",
    "plt.plot(fpr, tpr)\n",
    "plt.plot([0, 1], [0, 1])\n",
    "plt.show()"
   ]
  },
  {
   "cell_type": "markdown",
   "metadata": {},
   "source": [
    "<b>SVC с масштабированием тестовых данных</b>"
   ]
  },
  {
   "cell_type": "markdown",
   "metadata": {},
   "source": [
    "<b>Подготовим обобщённую выборку</b>"
   ]
  },
  {
   "cell_type": "code",
   "execution_count": 245,
   "metadata": {},
   "outputs": [],
   "source": [
    "train_upsampled, target_upsampled = upsample(ohe_features, ohe_target, 3)"
   ]
  },
  {
   "cell_type": "code",
   "execution_count": 246,
   "metadata": {},
   "outputs": [],
   "source": [
    "scaler.fit(test_ohe_features[numeric])\n",
    "test_ohe_features[numeric] = scaler.transform(test_ohe_features[numeric])\n",
    "scaler.fit(train_upsampled[numeric])\n",
    "train_upsampled[numeric] = scaler.transform(train_upsampled[numeric])"
   ]
  },
  {
   "cell_type": "code",
   "execution_count": 247,
   "metadata": {
    "scrolled": true
   },
   "outputs": [
    {
     "name": "stdout",
     "output_type": "stream",
     "text": [
      "F1 на тестовых данных: 0.63, ROC AUC: 0.86\n",
      "Precision: 0.561\n",
      "Recall: 0.717\n"
     ]
    },
    {
     "data": {
      "image/png": "[encoded data removed]",
      "text/plain": [
       "<Figure size 432x288 with 1 Axes>"
      ]
     },
     "metadata": {
      "needs_background": "light"
     },
     "output_type": "display_data"
    },
    {
     "name": "stdout",
     "output_type": "stream",
     "text": [
      "CPU times: user 28.1 s, sys: 464 ms, total: 28.6 s\n",
      "Wall time: 28.9 s\n"
     ]
    }
   ],
   "source": [
    "%%time\n",
    "svc_model = SVC(random_state=141, gamma='auto', probability=True)\n",
    "svc_model.fit(train_upsampled, target_upsampled)\n",
    "predicted_svc = svc_model.predict(test_ohe_features)\n",
    "svc_proba = svc_model.predict_proba(test_ohe_features)\n",
    "svc_one_test = svc_proba[:, 1]\n",
    "svc_auc = roc_auc_score(test_ohe_target, svc_one_test)\n",
    "print('F1 на тестовых данных: {:.2f}, ROC AUC: {:.2f}'.format(f1_score(test_ohe_target, predicted_svc), svc_auc))\n",
    "print(\"Precision: {:.3f}\".format(precision_score(test_ohe_target, predicted_svc)))\n",
    "print(\"Recall: {:.3f}\".format(recall_score(test_ohe_target, predicted_svc)))\n",
    "fpr, tpr, thresholds = roc_curve(test_ohe_target, svc_one_test)\n",
    "plt.plot(fpr, tpr)\n",
    "plt.plot([0, 1], [0, 1])\n",
    "plt.show()"
   ]
  },
  {
   "cell_type": "markdown",
   "metadata": {},
   "source": [
    "<b>Итоговый вывод:</b>\n",
    "\n",
    "| Model | F1 с upsample/scaling | ROC с upsample/scaling | F1 после теста | ROC после теста | Precision | Recall |\n",
    "| --- | --- | --- | --- | --- | --- | --- |\n",
    "| SVC | 0.61 | 0.77 | 0.63 | 0.86 | 0.56 | 0.71 |\n",
    "| RandomForestClassifier | 0.61 | 0.74 | 0.58 | 0.86 | 0.58 | 0.58 |\n",
    "\n",
    "* Семплирование имеет чуствительность: от 2 до 4 возникает переобучение и недообучение. Оптимальным выбрал - **3 повтора**\n",
    "* C небольшим отрывом лидером стал **SVC**. Обучение моделей было на обобщённой выборке\n",
    "* SVC с recall 0.71 имеет меньше шансов ошибиться с предсказанием ухода клиента\n",
    "* При пропусках, заполненных **медианой / средним / -1** выдаёт те же значения\n",
    "* Регулировка threshold не повлияла на увеличение метрик посе масштабирования и семплирования"
   ]
  },
  {
   "cell_type": "markdown",
   "metadata": {},
   "source": []
  },
  {
   "cell_type": "code",
   "execution_count": null,
   "metadata": {},
   "outputs": [],
   "source": []
  }
 ],
 "metadata": {
  "ExecuteTimeLog": [
   {
    "duration": 1466,
    "start_time": "2021-07-29T20:48:49.447Z"
   },
   {
    "duration": 85,
    "start_time": "2021-07-29T20:48:50.916Z"
   },
   {
    "duration": 12,
    "start_time": "2021-07-29T20:48:51.004Z"
   },
   {
    "duration": 5,
    "start_time": "2021-07-29T20:48:51.019Z"
   },
   {
    "duration": 6,
    "start_time": "2021-07-29T20:48:51.026Z"
   },
   {
    "duration": 20,
    "start_time": "2021-07-29T20:48:51.034Z"
   },
   {
    "duration": 42,
    "start_time": "2021-07-29T20:48:51.056Z"
   },
   {
    "duration": 4,
    "start_time": "2021-07-29T20:48:51.102Z"
   },
   {
    "duration": 9,
    "start_time": "2021-07-29T20:48:51.109Z"
   },
   {
    "duration": 11,
    "start_time": "2021-07-29T20:48:51.120Z"
   },
   {
    "duration": 6,
    "start_time": "2021-07-29T20:48:51.133Z"
   },
   {
    "duration": 843,
    "start_time": "2021-07-29T20:48:51.142Z"
   },
   {
    "duration": 4,
    "start_time": "2021-07-29T20:48:51.988Z"
   },
   {
    "duration": 6,
    "start_time": "2021-07-29T20:48:51.995Z"
   },
   {
    "duration": 14,
    "start_time": "2021-07-29T20:48:52.003Z"
   },
   {
    "duration": 5,
    "start_time": "2021-07-29T20:48:52.019Z"
   },
   {
    "duration": 10,
    "start_time": "2021-07-29T20:48:52.027Z"
   },
   {
    "duration": 44,
    "start_time": "2021-07-29T20:48:52.039Z"
   },
   {
    "duration": 4,
    "start_time": "2021-07-29T20:48:52.086Z"
   },
   {
    "duration": 7,
    "start_time": "2021-07-29T20:48:52.093Z"
   },
   {
    "duration": 6,
    "start_time": "2021-07-29T20:48:52.103Z"
   },
   {
    "duration": 9,
    "start_time": "2021-07-29T20:48:52.111Z"
   },
   {
    "duration": 5,
    "start_time": "2021-07-29T20:48:52.124Z"
   },
   {
    "duration": 53,
    "start_time": "2021-07-29T20:48:52.132Z"
   },
   {
    "duration": 10,
    "start_time": "2021-07-29T20:48:52.187Z"
   },
   {
    "duration": 299,
    "start_time": "2021-07-29T20:48:52.199Z"
   },
   {
    "duration": 306,
    "start_time": "2021-07-29T20:48:52.501Z"
   },
   {
    "duration": 45734,
    "start_time": "2021-07-29T20:48:52.809Z"
   },
   {
    "duration": 481,
    "start_time": "2021-07-29T20:49:38.546Z"
   },
   {
    "duration": 11293,
    "start_time": "2021-07-29T20:49:39.029Z"
   },
   {
    "duration": 351,
    "start_time": "2021-07-29T20:49:50.325Z"
   },
   {
    "duration": 941,
    "start_time": "2021-07-29T20:49:50.678Z"
   },
   {
    "duration": 507,
    "start_time": "2021-07-29T20:49:51.621Z"
   },
   {
    "duration": 488,
    "start_time": "2021-07-29T20:49:52.130Z"
   },
   {
    "duration": 12220,
    "start_time": "2021-07-29T20:49:52.621Z"
   },
   {
    "duration": 45,
    "start_time": "2021-07-29T20:50:04.843Z"
   },
   {
    "duration": 5,
    "start_time": "2021-07-29T20:50:04.890Z"
   },
   {
    "duration": 15,
    "start_time": "2021-07-29T20:50:04.897Z"
   },
   {
    "duration": 17,
    "start_time": "2021-07-29T20:50:04.914Z"
   },
   {
    "duration": 66,
    "start_time": "2021-07-29T20:50:04.933Z"
   },
   {
    "duration": 11,
    "start_time": "2021-07-29T20:50:05.002Z"
   },
   {
    "duration": 908,
    "start_time": "2021-07-29T20:50:05.016Z"
   },
   {
    "duration": 82433,
    "start_time": "2021-07-29T20:50:05.927Z"
   },
   {
    "duration": 46,
    "start_time": "2021-07-29T20:51:28.365Z"
   }
  ],
  "kernelspec": {
   "display_name": "Python 3",
   "language": "python",
   "name": "python3"
  },
  "language_info": {
   "codemirror_mode": {
    "name": "ipython",
    "version": 3
   },
   "file_extension": ".py",
   "mimetype": "text/x-python",
   "name": "python",
   "nbconvert_exporter": "python",
   "pygments_lexer": "ipython3",
   "version": "3.8.5"
  },
  "toc": {
   "base_numbering": 1,
   "nav_menu": {},
   "number_sections": true,
   "sideBar": true,
   "skip_h1_title": true,
   "title_cell": "Table of Contents",
   "title_sidebar": "Contents",
   "toc_cell": false,
   "toc_position": {},
   "toc_section_display": true,
   "toc_window_display": false
  }
 },
 "nbformat": 4,
 "nbformat_minor": 2
}
