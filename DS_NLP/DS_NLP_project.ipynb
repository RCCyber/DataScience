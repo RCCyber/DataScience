{
 "cells": [
  {
   "cell_type": "markdown",
   "metadata": {
    "toc": true
   },
   "source": [
    "<h1>Содержание<span class=\"tocSkip\"></span></h1>\n",
    "<div class=\"toc\"><ul class=\"toc-item\"><li><span><a href=\"#Подготовка\" data-toc-modified-id=\"Подготовка-1\"><span class=\"toc-item-num\">1&nbsp;&nbsp;</span>Подготовка</a></span></li><li><span><a href=\"#Обучение\" data-toc-modified-id=\"Обучение-2\"><span class=\"toc-item-num\">2&nbsp;&nbsp;</span>Обучение</a></span><ul class=\"toc-item\"><li><span><a href=\"#Анализ-моделей\" data-toc-modified-id=\"Анализ-моделей-2.1\"><span class=\"toc-item-num\">2.1&nbsp;&nbsp;</span>Анализ моделей</a></span></li></ul></li><li><span><a href=\"#Выводы\" data-toc-modified-id=\"Выводы-3\"><span class=\"toc-item-num\">3&nbsp;&nbsp;</span>Выводы</a></span></li><li><span><a href=\"#Чек-лист-проверки\" data-toc-modified-id=\"Чек-лист-проверки-4\"><span class=\"toc-item-num\">4&nbsp;&nbsp;</span>Чек-лист проверки</a></span></li></ul></div>"
   ]
  },
  {
   "cell_type": "markdown",
   "metadata": {},
   "source": [
    "# Проект: Обнаружение негативных комментариев"
   ]
  },
  {
   "cell_type": "markdown",
   "metadata": {},
   "source": [
    "## Подготовка"
   ]
  },
  {
   "cell_type": "code",
   "execution_count": 3,
   "metadata": {},
   "outputs": [],
   "source": [
    "import numpy as np\n",
    "import pandas as pd\n",
    "import seaborn as sns\n",
    "import matplotlib.pyplot as plt\n",
    "import re\n",
    "from nltk.corpus import wordnet\n",
    "from nltk.stem.wordnet import WordNetLemmatizer\n",
    "from nltk import word_tokenize, pos_tag\n",
    "from collections import defaultdict\n",
    "from nltk.corpus import stopwords as nltk_stopwords\n",
    "from sklearn.feature_extraction.text import TfidfVectorizer\n",
    "import nltk\n",
    "from tqdm.notebook import tqdm\n",
    "from sklearn.svm import SVC\n",
    "from lightgbm import LGBMClassifier\n",
    "from xgboost import XGBClassifier\n",
    "from catboost import CatBoostClassifier\n",
    "from sklearn.linear_model import SGDClassifier\n",
    "from sklearn.neighbors import KNeighborsClassifier\n",
    "from sklearn.linear_model import LogisticRegression\n",
    "from sklearn.dummy import DummyClassifier\n",
    "from sklearn.ensemble import GradientBoostingClassifier\n",
    "from sklearn.model_selection import cross_val_score, StratifiedKFold\n",
    "from sklearn.model_selection import train_test_split\n",
    "from sklearn.model_selection import GridSearchCV\n",
    "from sklearn.metrics import f1_score\n",
    "from sklearn.metrics import roc_auc_score, roc_curve\n",
    "from sklearn.utils import shuffle"
   ]
  },
  {
   "cell_type": "code",
   "execution_count": 1,
   "metadata": {},
   "outputs": [],
   "source": [
    "#df = pd.read_csv('###')"
   ]
  },
  {
   "cell_type": "markdown",
   "metadata": {},
   "source": [
    "<b>Загрузим лемматизатор из NLTK и предобученный POS теггер</b>"
   ]
  },
  {
   "cell_type": "code",
   "execution_count": 4,
   "metadata": {},
   "outputs": [
    {
     "name": "stderr",
     "output_type": "stream",
     "text": [
      "[nltk_data] Downloading package wordnet to /home/jovyan/nltk_data...\n",
      "[nltk_data]   Package wordnet is already up-to-date!\n",
      "[nltk_data] Downloading package averaged_perceptron_tagger to\n",
      "[nltk_data]     /home/jovyan/nltk_data...\n",
      "[nltk_data]   Unzipping taggers/averaged_perceptron_tagger.zip.\n"
     ]
    },
    {
     "data": {
      "text/plain": [
       "True"
      ]
     },
     "execution_count": 4,
     "metadata": {},
     "output_type": "execute_result"
    }
   ],
   "source": [
    "nltk.download('wordnet')\n",
    "nltk.download('averaged_perceptron_tagger')"
   ]
  },
  {
   "cell_type": "markdown",
   "metadata": {},
   "source": [
    "<b>Сформируем словарь с POS тегами</b>"
   ]
  },
  {
   "cell_type": "code",
   "execution_count": 5,
   "metadata": {},
   "outputs": [],
   "source": [
    "tag_map = defaultdict(lambda : wordnet.NOUN)\n",
    "tag_map['J'] = wordnet.ADJ\n",
    "tag_map['V'] = wordnet.VERB\n",
    "tag_map['R'] = wordnet.ADV"
   ]
  },
  {
   "cell_type": "markdown",
   "metadata": {},
   "source": [
    "<b>Скачаем стопслова, сформируем множество стопслов и определим progressbar для pandas операций</b>"
   ]
  },
  {
   "cell_type": "code",
   "execution_count": 6,
   "metadata": {},
   "outputs": [
    {
     "name": "stderr",
     "output_type": "stream",
     "text": [
      "[nltk_data] Downloading package stopwords to /home/jovyan/nltk_data...\n",
      "[nltk_data]   Package stopwords is already up-to-date!\n",
      "/opt/conda/lib/python3.7/site-packages/tqdm/std.py:668: FutureWarning: The Panel class is removed from pandas. Accessing it from the top-level namespace will also be removed in the next version\n",
      "  from pandas import Panel\n"
     ]
    }
   ],
   "source": [
    "nltk.download('stopwords')\n",
    "stopwords = set(nltk_stopwords.words('english'))\n",
    "tqdm.pandas()"
   ]
  },
  {
   "cell_type": "code",
   "execution_count": 7,
   "metadata": {},
   "outputs": [
    {
     "name": "stdout",
     "output_type": "stream",
     "text": [
      "<class 'pandas.core.frame.DataFrame'>\n",
      "RangeIndex: 159571 entries, 0 to 159570\n",
      "Data columns (total 2 columns):\n",
      "text     159571 non-null object\n",
      "toxic    159571 non-null int64\n",
      "dtypes: int64(1), object(1)\n",
      "memory usage: 2.4+ MB\n"
     ]
    },
    {
     "data": {
      "text/plain": [
       "None"
      ]
     },
     "metadata": {},
     "output_type": "display_data"
    },
    {
     "data": {
      "text/html": [
       "<div>\n",
       "<style scoped>\n",
       "    .dataframe tbody tr th:only-of-type {\n",
       "        vertical-align: middle;\n",
       "    }\n",
       "\n",
       "    .dataframe tbody tr th {\n",
       "        vertical-align: top;\n",
       "    }\n",
       "\n",
       "    .dataframe thead th {\n",
       "        text-align: right;\n",
       "    }\n",
       "</style>\n",
       "<table border=\"1\" class=\"dataframe\">\n",
       "  <thead>\n",
       "    <tr style=\"text-align: right;\">\n",
       "      <th></th>\n",
       "      <th>text</th>\n",
       "      <th>toxic</th>\n",
       "    </tr>\n",
       "  </thead>\n",
       "  <tbody>\n",
       "    <tr>\n",
       "      <td>0</td>\n",
       "      <td>Explanation\\nWhy the edits made under my usern...</td>\n",
       "      <td>0</td>\n",
       "    </tr>\n",
       "    <tr>\n",
       "      <td>1</td>\n",
       "      <td>D'aww! He matches this background colour I'm s...</td>\n",
       "      <td>0</td>\n",
       "    </tr>\n",
       "    <tr>\n",
       "      <td>2</td>\n",
       "      <td>Hey man, I'm really not trying to edit war. It...</td>\n",
       "      <td>0</td>\n",
       "    </tr>\n",
       "    <tr>\n",
       "      <td>3</td>\n",
       "      <td>\"\\nMore\\nI can't make any real suggestions on ...</td>\n",
       "      <td>0</td>\n",
       "    </tr>\n",
       "    <tr>\n",
       "      <td>4</td>\n",
       "      <td>You, sir, are my hero. Any chance you remember...</td>\n",
       "      <td>0</td>\n",
       "    </tr>\n",
       "  </tbody>\n",
       "</table>\n",
       "</div>"
      ],
      "text/plain": [
       "                                                text  toxic\n",
       "0  Explanation\\nWhy the edits made under my usern...      0\n",
       "1  D'aww! He matches this background colour I'm s...      0\n",
       "2  Hey man, I'm really not trying to edit war. It...      0\n",
       "3  \"\\nMore\\nI can't make any real suggestions on ...      0\n",
       "4  You, sir, are my hero. Any chance you remember...      0"
      ]
     },
     "metadata": {},
     "output_type": "display_data"
    }
   ],
   "source": [
    "display(df.info())\n",
    "display(df.head())"
   ]
  },
  {
   "cell_type": "markdown",
   "metadata": {},
   "source": [
    "<b>Напишем функции для предварительной очистки текста от лишних знаков и цифр</b>"
   ]
  },
  {
   "cell_type": "code",
   "execution_count": 8,
   "metadata": {},
   "outputs": [],
   "source": [
    "def clear_text(text):\n",
    "    \"\"\"Функция очистки текста от лишних знаков и цифр\"\"\"\n",
    "    text = re.sub(r'[^a-zA-Z ]', ' ', text)\n",
    "    return \" \".join(text.split())\n",
    "\n",
    "\n",
    "def main_lemm(clm : pd.Series):\n",
    "    \"\"\"Функция лемматизации корпуса, с учётом POS тегов\"\"\"\n",
    "    temp_list = []\n",
    "    m = WordNetLemmatizer()\n",
    "    for col in tqdm(clm):\n",
    "        lemma = [m.lemmatize(token, tag_map[tag[0]]) for token, tag in pos_tag(word_tokenize(col))]\n",
    "        temp_list.append(\" \".join(lemma))\n",
    "    return temp_list"
   ]
  },
  {
   "cell_type": "markdown",
   "metadata": {},
   "source": [
    "<b>Применим функцию очистки для корпуса из dataset'а</b>"
   ]
  },
  {
   "cell_type": "code",
   "execution_count": 9,
   "metadata": {},
   "outputs": [
    {
     "data": {
      "application/vnd.jupyter.widget-view+json": {
       "model_id": "4f03851e3cf94fdca695df5507be52df",
       "version_major": 2,
       "version_minor": 0
      },
      "text/plain": [
       "HBox(children=(FloatProgress(value=0.0, max=159571.0), HTML(value='')))"
      ]
     },
     "metadata": {},
     "output_type": "display_data"
    },
    {
     "name": "stdout",
     "output_type": "stream",
     "text": [
      "\n"
     ]
    }
   ],
   "source": [
    "df['clean_text'] = df['text'].progress_apply(lambda x: clear_text(x))"
   ]
  },
  {
   "cell_type": "markdown",
   "metadata": {},
   "source": [
    "<b>Лемматизируем очищенный корпус текстов</b>"
   ]
  },
  {
   "cell_type": "code",
   "execution_count": 10,
   "metadata": {},
   "outputs": [
    {
     "data": {
      "application/vnd.jupyter.widget-view+json": {
       "model_id": "b2d59236d02840b88234633d2a642132",
       "version_major": 2,
       "version_minor": 0
      },
      "text/plain": [
       "HBox(children=(FloatProgress(value=0.0, max=159571.0), HTML(value='')))"
      ]
     },
     "metadata": {},
     "output_type": "display_data"
    },
    {
     "name": "stdout",
     "output_type": "stream",
     "text": [
      "\n"
     ]
    }
   ],
   "source": [
    "df['lemm_text'] = main_lemm(df['clean_text'])"
   ]
  },
  {
   "cell_type": "markdown",
   "metadata": {},
   "source": [
    "<b>Отобразим графически количество классов в датасете</b>"
   ]
  },
  {
   "cell_type": "code",
   "execution_count": 11,
   "metadata": {},
   "outputs": [
    {
     "data": {
      "image/png": "[encoded data removed]",
      "text/plain": [
       "<Figure size 864x576 with 1 Axes>"
      ]
     },
     "metadata": {
      "needs_background": "light"
     },
     "output_type": "display_data"
    }
   ],
   "source": [
    "plt.figure(figsize=(12, 8))\n",
    "sns.countplot(df['toxic'])\n",
    "plt.show()"
   ]
  },
  {
   "cell_type": "markdown",
   "metadata": {},
   "source": [
    "<b>Вывод: У нас явный дисбаланс классов</b>"
   ]
  },
  {
   "cell_type": "markdown",
   "metadata": {},
   "source": [
    "<b>Разобъём датасет на тестовый и тренировочный, в пропорции 25/75</b>"
   ]
  },
  {
   "cell_type": "code",
   "execution_count": 14,
   "metadata": {},
   "outputs": [],
   "source": [
    "df_train, df_test = train_test_split(df[['lemm_text', 'toxic']],\n",
    "                                                    test_size=0.25,\n",
    "                                                    random_state=0,\n",
    "                                                    stratify=df['toxic'])"
   ]
  },
  {
   "cell_type": "markdown",
   "metadata": {},
   "source": [
    "<b>Переведём корпуса тренировочной и тестовой выборки в удобный для венторизации вид</b>"
   ]
  },
  {
   "cell_type": "code",
   "execution_count": null,
   "metadata": {},
   "outputs": [],
   "source": [
    "corpus = df_train['lemm_text'].values.astype('U')\n",
    "test_corpus = df_test['lemm_text'].values.astype('U')"
   ]
  },
  {
   "cell_type": "markdown",
   "metadata": {},
   "source": [
    "<b>Векторизуем корпуса</b>"
   ]
  },
  {
   "cell_type": "code",
   "execution_count": 12,
   "metadata": {},
   "outputs": [],
   "source": [
    "count_vect = TfidfVectorizer(stop_words=stopwords, max_features=10000, min_df=5)\n",
    "tf_idf_train = count_vect.fit_transform(corpus)\n",
    "tf_idf_test = count_vect.transform(test_corpus)"
   ]
  },
  {
   "cell_type": "code",
   "execution_count": null,
   "metadata": {},
   "outputs": [],
   "source": []
  },
  {
   "cell_type": "code",
   "execution_count": 14,
   "metadata": {},
   "outputs": [
    {
     "data": {
      "text/plain": [
       "(119678, 25544)"
      ]
     },
     "metadata": {},
     "output_type": "display_data"
    },
    {
     "data": {
      "text/plain": [
       "(39893, 25544)"
      ]
     },
     "metadata": {},
     "output_type": "display_data"
    }
   ],
   "source": [
    "display(tf_idf_train.shape, tf_idf_test.shape)"
   ]
  },
  {
   "cell_type": "markdown",
   "metadata": {},
   "source": [
    "## Обучение"
   ]
  },
  {
   "cell_type": "markdown",
   "metadata": {},
   "source": [
    "<b>Обучим ряд моделей, чтобы выявить лучшую метрику на кросс валидации</b>"
   ]
  },
  {
   "cell_type": "markdown",
   "metadata": {},
   "source": [
    "<b>LogisticRegression</b>"
   ]
  },
  {
   "cell_type": "code",
   "execution_count": 15,
   "metadata": {},
   "outputs": [],
   "source": [
    "skf = StratifiedKFold(n_splits=5, shuffle=True, random_state=17)"
   ]
  },
  {
   "cell_type": "code",
   "execution_count": 4,
   "metadata": {},
   "outputs": [],
   "source": [
    "#%%time\n",
    "#lr_model = LogisticRegression(solver='liblinear', random_state=17)\n",
    "#lr_cvs = cross_val_score(lr_model, tf_idf_train, df_train['toxic'], scoring='f1', \n",
    "#                         n_jobs=-1, verbose=1, cv=skf)\n",
    "#print(lr_cvs, lr_cvs.mean())"
   ]
  },
  {
   "cell_type": "markdown",
   "metadata": {},
   "source": [
    "[0.71673052 0.73023839 0.73655514 0.728      0.72690964] 0.7276867391308537\n",
    "\n",
    "Wall time: 4.1 s"
   ]
  },
  {
   "cell_type": "markdown",
   "metadata": {},
   "source": [
    "<b>SVC model</b>"
   ]
  },
  {
   "cell_type": "code",
   "execution_count": 17,
   "metadata": {},
   "outputs": [],
   "source": [
    "#%%time\n",
    "#svc_model = SVC(random_state=444) #, gamma='auto', probability=True)\n",
    "#svc_cvs = cross_val_score(svc_model, tf_idf_train, df_train['toxic'], scoring='f1', \n",
    "#                          n_jobs=-1, verbose=1,  cv=skf)\n",
    "#print(svc_cvs, svc_cvs.mean())"
   ]
  },
  {
   "cell_type": "markdown",
   "metadata": {},
   "source": [
    "[0.73810716 0.74281467 0.74526212 0.74908201 0.74809909] 0.7446730100256298\n",
    "\n",
    "Wall time: 31min 52s"
   ]
  },
  {
   "cell_type": "markdown",
   "metadata": {},
   "source": [
    "<b>SGDClassifier</b>"
   ]
  },
  {
   "cell_type": "code",
   "execution_count": 18,
   "metadata": {},
   "outputs": [],
   "source": [
    "#%%time\n",
    "#np.random.seed(555)\n",
    "#sgd_model = SGDClassifier()\n",
    "#sgd_cvs = cross_val_score(sgd_model, tf_idf_train, df_train['toxic'], scoring='f1', \n",
    "#                            n_jobs=-1, verbose=1,  cv=skf)\n",
    "#print(sgd_cvs, sgd_cvs.mean())"
   ]
  },
  {
   "cell_type": "markdown",
   "metadata": {},
   "source": [
    "[0.63825076 0.64841183 0.64770241 0.63971397 0.65099754] 0.6450153017971872\n",
    "\n",
    "Wall time: 2.73 s"
   ]
  },
  {
   "cell_type": "markdown",
   "metadata": {},
   "source": [
    "<b>KNeighborsClassifier Model</b>"
   ]
  },
  {
   "cell_type": "code",
   "execution_count": 19,
   "metadata": {},
   "outputs": [],
   "source": [
    "#%%time\n",
    "#np.random.seed(666)\n",
    "#knn_model = KNeighborsClassifier()\n",
    "#knn_cvs = cross_val_score(knn_model, tf_idf_train, df_train['toxic'], scoring='f1', \n",
    "#                            n_jobs=-1, verbose=1,  cv=skf)\n",
    "#print(knn_cvs, knn_cvs.mean())"
   ]
  },
  {
   "cell_type": "markdown",
   "metadata": {},
   "source": [
    "[0.31786942 0.30222222 0.32633887 0.31958128 0.31542461] 0.31628727902798365\n",
    "\n",
    "Wall time: 11min 45s"
   ]
  },
  {
   "cell_type": "markdown",
   "metadata": {},
   "source": [
    "<b>DummyClassifier model</b>"
   ]
  },
  {
   "cell_type": "code",
   "execution_count": 20,
   "metadata": {},
   "outputs": [],
   "source": [
    "#%%time\n",
    "#dum_model = DummyClassifier(random_state=888)\n",
    "#dum_cvs = cross_val_score(dum_model, tf_idf_train, df_train['toxic'], scoring='f1', \n",
    "#                            n_jobs=-1, verbose=1,  cv=skf)\n",
    "#print(dum_cvs, dum_cvs.mean())"
   ]
  },
  {
   "cell_type": "markdown",
   "metadata": {},
   "source": [
    "[0.10291734 0.10656402 0.10777958 0.08752026 0.09805511] 0.1005672609400324\n",
    "\n",
    "Wall time: 2.43 s"
   ]
  },
  {
   "cell_type": "markdown",
   "metadata": {},
   "source": [
    "<b>LGBMClassifier</b>"
   ]
  },
  {
   "cell_type": "code",
   "execution_count": 21,
   "metadata": {},
   "outputs": [],
   "source": [
    "#%%time\n",
    "#np.random.seed(999)\n",
    "#lgbm_model = LGBMClassifier()\n",
    "#lgbm_cvs = cross_val_score(lgbm_model, tf_idf_train, df_train['toxic'], scoring='f1', \n",
    "#                            n_jobs=-1, verbose=1,  cv=skf)\n",
    "#print(lgbm_cvs, lgbm_cvs.mean())"
   ]
  },
  {
   "cell_type": "markdown",
   "metadata": {},
   "source": [
    "[0.73973949 0.739971   0.7515006  0.75017895 0.74674385] 0.7456267797706755\n",
    "\n",
    "Wall time: 1min 2s"
   ]
  },
  {
   "cell_type": "markdown",
   "metadata": {},
   "source": [
    "<b>XGBClassifier</b>"
   ]
  },
  {
   "cell_type": "code",
   "execution_count": 22,
   "metadata": {},
   "outputs": [],
   "source": [
    "#%%time\n",
    "#np.random.seed(998)\n",
    "#xgb_model = XGBClassifier()\n",
    "#xgb_cvs = cross_val_score(xgb_model, tf_idf_train, df_train['toxic'], scoring='f1', \n",
    "#                            n_jobs=-1, verbose=1,  cv=skf)\n",
    "#print(xgb_cvs, xgb_cvs.mean())"
   ]
  },
  {
   "cell_type": "markdown",
   "metadata": {},
   "source": [
    "[0.72176309 0.72372001 0.72053705 0.73127753 0.72547076] 0.7245536875420405\n",
    "\n",
    "Wall time: 2min 16s"
   ]
  },
  {
   "cell_type": "markdown",
   "metadata": {},
   "source": [
    "<b>GradientBoostingClassifier</b>"
   ]
  },
  {
   "cell_type": "code",
   "execution_count": 23,
   "metadata": {},
   "outputs": [],
   "source": [
    "#%%time\n",
    "#np.random.seed(997)\n",
    "#grad_model = GradientBoostingClassifier()\n",
    "#grad_cvs = cross_val_score(grad_model, tf_idf_train, df_train['toxic'], scoring='f1', \n",
    "#                            n_jobs=-1, verbose=1,  cv=skf)\n",
    "#print(grad_cvs, grad_cvs.mean())"
   ]
  },
  {
   "cell_type": "markdown",
   "metadata": {},
   "source": [
    "[0.59473237 0.61319967 0.5927806  0.60661662 0.59796725] 0.6010593018455402\n",
    "\n",
    "Wall time: 2min 20s"
   ]
  },
  {
   "cell_type": "markdown",
   "metadata": {},
   "source": [
    "### Анализ моделей"
   ]
  },
  {
   "cell_type": "markdown",
   "metadata": {},
   "source": [
    "<b>Таблица производительности и качества моделей</b>\n",
    "\n",
    "| Model | Execution time | F1_Score |\n",
    "| --- | --- | --- |\n",
    "| LGBMClassifier | 1min 2s | 0.745 |\n",
    "| SVC | 31min 52s | 0.744 |\n",
    "| LogisticRegression | 4.1 s | 0.727 |\n",
    "| XGBClassifier | 2min 16s | 0.724 |\n",
    "| SGDClassifier | 2.73 s | 0.645 |\n",
    "| GradientBoostingClassifier | 2min 20s | 0.601 |\n",
    "| KNeighborsClassifier | 11min 45s | 0.316 |\n",
    "| DummyClassifier | 2.43 s | 0.100 |\n",
    "\n",
    "LGBMClassifier и LogisticRegression - главные претенденты"
   ]
  },
  {
   "cell_type": "code",
   "execution_count": 1,
   "metadata": {},
   "outputs": [],
   "source": [
    "#%%time\n",
    "#grid={\"C\":np.logspace(-3,3,7), \"penalty\":[\"l1\",\"l2\"]}\n",
    "#logreg=LogisticRegression(random_state=765, solver='liblinear', class_weight='balanced')\n",
    "#logreg_cv=GridSearchCV(logreg,grid,cv=skf, scoring='f1', verbose=1, n_jobs=-1)\n",
    "#logreg_cv.fit(tf_idf_train, df_train['toxic'])\n",
    "#print(\"tuned hpyerparameters :(best parameters) \", logreg_cv.best_params_)\n",
    "#print(\"f1 :\", logreg_cv.best_score_)"
   ]
  },
  {
   "cell_type": "markdown",
   "metadata": {},
   "source": [
    "tuned hpyerparameters :(best parameters)  {'C': 10.0, 'penalty': 'l2'}\n",
    "\n",
    "accuracy : 0.7439368911660623\n",
    "\n",
    "Wall time: 5min 42s"
   ]
  },
  {
   "cell_type": "markdown",
   "metadata": {},
   "source": [
    "<b>LGBMClassifier</b>"
   ]
  },
  {
   "cell_type": "code",
   "execution_count": 25,
   "metadata": {},
   "outputs": [],
   "source": [
    "#%%time\n",
    "#params = {'num_leaves': [10, 12, 14, 16],\n",
    "#          'max_depth': [4, 5, 6, 8, 10],\n",
    "#          'n_estimators': [50, 60, 70, 80],\n",
    "#          'is_unbalance': [True]} \n",
    "#\n",
    "#lgb_estimator = LGBMClassifier(random_state=764)\n",
    "#gsearch = GridSearchCV(lgb_estimator, params, cv=skf, scoring='f1', n_jobs=-1, verbose=1, )\n",
    "#lgb_model = gsearch.fit(tf_idf_train, df_train['toxic'])\n",
    "#\n",
    "#print(lgb_model.best_params_, lgb_model.best_score_)"
   ]
  },
  {
   "cell_type": "markdown",
   "metadata": {},
   "source": [
    "{'is_unbalance': True, 'max_depth': 10, 'n_estimators': 80, 'num_leaves': 16} \n",
    "\n",
    "0.720317530621158\n",
    "\n",
    "Wall time: 30min 37s"
   ]
  },
  {
   "cell_type": "markdown",
   "metadata": {},
   "source": [
    "<b>Финальная модель</b>"
   ]
  },
  {
   "cell_type": "code",
   "execution_count": 32,
   "metadata": {},
   "outputs": [
    {
     "name": "stdout",
     "output_type": "stream",
     "text": [
      "F1_Score: 0.768\n"
     ]
    },
    {
     "data": {
      "image/png": "[encoded data removed]",
      "text/plain": [
       "<Figure size 432x288 with 1 Axes>"
      ]
     },
     "metadata": {
      "needs_background": "light"
     },
     "output_type": "display_data"
    },
    {
     "name": "stdout",
     "output_type": "stream",
     "text": [
      "Wall time: 2.46 s\n"
     ]
    }
   ],
   "source": [
    "%%time\n",
    "lr_final = LogisticRegression(solver='liblinear', C=10, penalty='l2', random_state=17)\n",
    "lr_final.fit(tf_idf_train, df_train['toxic'])\n",
    "predicted_lr = lr_final.predict(tf_idf_test)\n",
    "lr_proba = lr_final.predict_proba(tf_idf_test)\n",
    "lr_one_test = lr_proba[:, 1]\n",
    "lr_auc = roc_auc_score(df_test['toxic'], lr_one_test)\n",
    "print(\"F1_Score: {:.3f}\".format(f1_score(df_test['toxic'], predicted_lr)))\n",
    "fpr, tpr, thresholds = roc_curve(df_test['toxic'], lr_one_test)\n",
    "plt.plot(fpr, tpr)\n",
    "plt.plot([0, 1], [0, 1])\n",
    "plt.show()"
   ]
  },
  {
   "cell_type": "markdown",
   "metadata": {},
   "source": [
    "## Выводы"
   ]
  },
  {
   "cell_type": "markdown",
   "metadata": {},
   "source": [
    "* В этом проекте использовал pipeline обработки текста через TF-IDF Vectorizer\n",
    "* Были кросс-валидированы ряд моделей, среди которых выиграла LogisticRegression по метрике и времени выполнения\n",
    "* Финальная модель показала F1_Score: 0.768 на тестовой выборке(получается впритык к пороговой оценке)"
   ]
  },
  {
   "cell_type": "markdown",
   "metadata": {},
   "source": []
  },
  {
   "cell_type": "code",
   "execution_count": null,
   "metadata": {},
   "outputs": [],
   "source": []
  }
 ],
 "metadata": {
  "kernelspec": {
   "display_name": "Python 3",
   "language": "python",
   "name": "python3"
  },
  "language_info": {
   "codemirror_mode": {
    "name": "ipython",
    "version": 3
   },
   "file_extension": ".py",
   "mimetype": "text/x-python",
   "name": "python",
   "nbconvert_exporter": "python",
   "pygments_lexer": "ipython3",
   "version": "3.8.5"
  },
  "toc": {
   "base_numbering": 1,
   "nav_menu": {},
   "number_sections": true,
   "sideBar": true,
   "skip_h1_title": true,
   "title_cell": "Содержание",
   "title_sidebar": "Contents",
   "toc_cell": true,
   "toc_position": {
    "height": "calc(100% - 180px)",
    "left": "10px",
    "top": "150px",
    "width": "302.391px"
   },
   "toc_section_display": true,
   "toc_window_display": false
  }
 },
 "nbformat": 4,
 "nbformat_minor": 2
}
